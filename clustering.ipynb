{
 "cells": [
  {
   "cell_type": "markdown",
   "id": "20217c46",
   "metadata": {},
   "source": [
    "### Trying to cluster"
   ]
  },
  {
   "cell_type": "code",
   "execution_count": 1,
   "id": "67583543",
   "metadata": {},
   "outputs": [],
   "source": [
    "import functions\n",
    "import numpy as np"
   ]
  },
  {
   "cell_type": "code",
   "execution_count": 2,
   "id": "b289c113",
   "metadata": {},
   "outputs": [],
   "source": [
    "# Folder containing the data\n",
    "folder_path = \"FC_matrices_times_wp11/\"\n",
    "\n",
    "# keep only ROIS\n",
    "rois = [363, 364, 365, 368, 372, 373, 374, 377, 379, 361, 370, 362, 371, 10, 11, 12, 54, 56, 78, 96, 190, 191, 192, 234, 236, 258, 276, 8, 9, 51, 52, 53, 188, 189, 231, 232, 233]\n",
    "rois = [roi - 1 for roi in rois]\n",
    "\n",
    "t1_matrices, rsfMRI_full_info, rsfMRI_info, t1_subjects = functions.load_data_T1_only(folder_path, rois)\n",
    "matrices, rsfMRI_full_info, rsfMRI_info, subjects = functions.load_data(folder_path, rois)"
   ]
  },
  {
   "cell_type": "code",
   "execution_count": 5,
   "id": "9779605e",
   "metadata": {},
   "outputs": [
    {
     "name": "stdout",
     "output_type": "stream",
     "text": [
      "matrices shape:  ()\n",
      "t1_matrices shape:  (22, 37, 37)\n"
     ]
    }
   ],
   "source": [
    "print(\"matrices shape: \", np.shape(matrices))\n",
    "print(\"t1_matrices shape: \", np.shape(t1_matrices))"
   ]
  },
  {
   "cell_type": "code",
   "execution_count": 8,
   "id": "7f24acb1",
   "metadata": {},
   "outputs": [
    {
     "ename": "AttributeError",
     "evalue": "module 'functions' has no attribute 'matrices_to_wide_df'",
     "output_type": "error",
     "traceback": [
      "\u001b[0;31m---------------------------------------------------------------------------\u001b[0m",
      "\u001b[0;31mAttributeError\u001b[0m                            Traceback (most recent call last)",
      "Cell \u001b[0;32mIn[8], line 1\u001b[0m\n\u001b[0;32m----> 1\u001b[0m matrices \u001b[38;5;241m=\u001b[39m functions\u001b[38;5;241m.\u001b[39mmatrices_to_wide_df(matrices)\n",
      "\u001b[0;31mAttributeError\u001b[0m: module 'functions' has no attribute 'matrices_to_wide_df'"
     ]
    }
   ],
   "source": [
    "matrices = functions.matrices_to_wide_df(matrices)\n"
   ]
  },
  {
   "cell_type": "code",
   "execution_count": null,
   "id": "1eb9e470",
   "metadata": {},
   "outputs": [],
   "source": []
  }
 ],
 "metadata": {
  "kernelspec": {
   "display_name": "ada",
   "language": "python",
   "name": "python3"
  },
  "language_info": {
   "codemirror_mode": {
    "name": "ipython",
    "version": 3
   },
   "file_extension": ".py",
   "mimetype": "text/x-python",
   "name": "python",
   "nbconvert_exporter": "python",
   "pygments_lexer": "ipython3",
   "version": "3.11.9"
  }
 },
 "nbformat": 4,
 "nbformat_minor": 5
}

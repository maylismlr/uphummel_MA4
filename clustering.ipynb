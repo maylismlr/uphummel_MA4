{
 "cells": [
  {
   "cell_type": "markdown",
   "id": "20217c46",
   "metadata": {},
   "source": [
    "### Trying to cluster"
   ]
  },
  {
   "cell_type": "code",
   "execution_count": null,
   "id": "67583543",
   "metadata": {},
   "outputs": [],
   "source": [
    "import functions\n",
    "import numpy as np\n",
    "import pandas as pd\n",
    "from sklearn.preprocessing import StandardScaler"
   ]
  },
  {
   "cell_type": "code",
   "execution_count": 15,
   "id": "b289c113",
   "metadata": {},
   "outputs": [],
   "source": [
    "# Folder containing the data\n",
    "folder_path = \"FC_matrices_times_wp11/\"\n",
    "\n",
    "# keep only ROIS\n",
    "rois = [363, 364, 365, 368, 372, 373, 374, 377, 379, 361, 370, 362, 371, 10, 11, 12, 54, 56, 78, 96, 190, 191, 192, 234, 236, 258, 276, 8, 9, 51, 52, 53, 188, 189, 231, 232, 233]\n",
    "rois = [roi - 1 for roi in rois]\n",
    "\n",
    "t1_matrices, rsfMRI_full_info, rsfMRI_info, t1_subjects = functions.load_data_T1_only(folder_path, rois)\n",
    "matrices, rsfMRI_full_info, rsfMRI_info, subjects = functions.load_data(folder_path, rois)"
   ]
  },
  {
   "cell_type": "code",
   "execution_count": 16,
   "id": "9779605e",
   "metadata": {},
   "outputs": [
    {
     "name": "stdout",
     "output_type": "stream",
     "text": [
      "matrices shape:  ()\n",
      "t1_matrices shape:  (22, 37, 37)\n"
     ]
    }
   ],
   "source": [
    "print(\"matrices shape: \", np.shape(matrices))\n",
    "print(\"t1_matrices shape: \", np.shape(t1_matrices))"
   ]
  },
  {
   "cell_type": "code",
   "execution_count": 34,
   "id": "bbe85a60",
   "metadata": {},
   "outputs": [
    {
     "name": "stdout",
     "output_type": "stream",
     "text": [
      "Shape of matrices:  (22, 5)\n"
     ]
    }
   ],
   "source": [
    "#print(matrices['T1_matrix'].iloc[0])\n",
    "print(\"Shape of matrices: \", np.shape(matrices))"
   ]
  },
  {
   "cell_type": "code",
   "execution_count": 32,
   "id": "69bb9b4b",
   "metadata": {},
   "outputs": [
    {
     "data": {
      "image/png": "[encoded data removed]",
      "text/plain": [
       "<Figure size 640x480 with 2 Axes>"
      ]
     },
     "metadata": {},
     "output_type": "display_data"
    }
   ],
   "source": [
    "baseline_matrices = matrices['T1_matrix']\n",
    "\n",
    "def flatten_upper(mat):\n",
    "    mat = mat.values if isinstance(mat, pd.DataFrame) else mat  # ensure it's an array\n",
    "    return mat[np.triu_indices_from(mat, k=1)]\n",
    "\n",
    "X = np.array([flatten_upper(m) for m in baseline_matrices])\n",
    "subject_ids = matrices.loc[baseline_matrices.index, 'subject_id'].tolist()\n",
    "\n",
    "scaler = StandardScaler()\n",
    "X_scaled = scaler.fit_transform(X)\n",
    "\n",
    "from sklearn.cluster import KMeans\n",
    "\n",
    "kmeans = KMeans(n_clusters=2, random_state=42) # 3 clusters seems to work best in plot below, but have to check again with silhouette score\n",
    "labels = kmeans.fit_predict(X_scaled)  # shape: (22,)\n",
    "\n",
    "from sklearn.decomposition import PCA\n",
    "import matplotlib.pyplot as plt\n",
    "\n",
    "pca = PCA(n_components=2)\n",
    "X_pca = pca.fit_transform(X_scaled)\n",
    "\n",
    "plt.scatter(X_pca[:, 0], X_pca[:, 1], c=labels, cmap='viridis')\n",
    "plt.title(\"Patient Clusters at Baseline\")\n",
    "plt.xlabel(\"PCA 1\")\n",
    "plt.ylabel(\"PCA 2\")\n",
    "plt.colorbar(label=\"Cluster\")\n",
    "plt.show()\n"
   ]
  },
  {
   "cell_type": "code",
   "execution_count": 33,
   "id": "695ea56f",
   "metadata": {},
   "outputs": [
    {
     "name": "stdout",
     "output_type": "stream",
     "text": [
      "Silhouette score: 0.09456492624101184\n"
     ]
    }
   ],
   "source": [
    "from sklearn.metrics import silhouette_score\n",
    "score = silhouette_score(X_scaled, labels)\n",
    "print(f\"Silhouette score: {score}\")\n"
   ]
  },
  {
   "cell_type": "code",
   "execution_count": null,
   "id": "6750353b",
   "metadata": {},
   "outputs": [
    {
     "name": "stdout",
     "output_type": "stream",
     "text": [
      "Cluster 0: ['s036', 's001', 's014', 's057', 's042', 's081']\n",
      "Cluster 1: ['s039', 's068', 's003', 's067', 's016']\n",
      "Cluster 2: ['s008', 's006', 's041', 's013', 's027', 's011', 's074', 's017', 's021', 's019', 's075']\n"
     ]
    }
   ],
   "source": [
    "# Assuming `baseline_matrices` is a Pandas Series containing your matrices\n",
    "subject_ids = matrices.loc[baseline_matrices.index, 'subject_id'].tolist()\n",
    "\n",
    "# Create a DataFrame with subject IDs and their corresponding cluster labels\n",
    "subject_cluster_df = pd.DataFrame({'subject_id': subject_ids, 'cluster': labels})\n",
    "\n",
    "# Group subjects by cluster label\n",
    "grouped_subjects = subject_cluster_df.groupby('cluster')['subject_id'].apply(list).to_dict()\n",
    "\n",
    "# Print subjects in each cluster\n",
    "for cluster, subjects in grouped_subjects.items():\n",
    "    print(f\"Cluster {cluster}: {subjects}\")"
   ]
  },
  {
   "cell_type": "code",
   "execution_count": null,
   "id": "37fafbd8",
   "metadata": {},
   "outputs": [
    {
     "name": "stdout",
     "output_type": "stream",
     "text": [
      "  subject_id                                          T1_matrix  \\\n",
      "0       s036            362       363       364       367  3...   \n",
      "1       s008            362       363       364       367   ...   \n",
      "2       s039            362       363       364       367   ...   \n",
      "3       s006            362       363       364       367   ...   \n",
      "4       s001            362       363       364       367   ...   \n",
      "\n",
      "                                           T2_matrix  \\\n",
      "0            362       363       364       367   ...   \n",
      "1            362       363       364       367   ...   \n",
      "2            362       363       364       367   ...   \n",
      "3            362       363       364       367   ...   \n",
      "4            362       363       364       367   ...   \n",
      "\n",
      "                                           T3_matrix  \\\n",
      "0            362       363       364       367   ...   \n",
      "1            362       363       364       367   ...   \n",
      "2            362       363       364       367   ...   \n",
      "3            362       363       364       367   ...   \n",
      "4            362       363       364       367   ...   \n",
      "\n",
      "                                           T4_matrix  cluster  \n",
      "0            362       363       364       367  3...        0  \n",
      "1            362       363       364       367   ...        2  \n",
      "2            362       363       364       367   ...        1  \n",
      "3            362       363       364       367   ...        2  \n",
      "4            362       363       364       367   ...        0  \n"
     ]
    }
   ],
   "source": [
    "# Create a DataFrame mapping subject IDs to their cluster labels\n",
    "subject_cluster_df = pd.DataFrame({'subject_id': subject_ids, 'cluster': labels})\n",
    "\n",
    "# Merge the cluster DataFrame with the original DataFrame (matrices)\n",
    "matrices_with_clusters = matrices.merge(subject_cluster_df, on='subject_id', how='left')\n",
    "\n",
    "# Show the updated DataFrame with the cluster column\n",
    "print(matrices_with_clusters.head())"
   ]
  },
  {
   "cell_type": "code",
   "execution_count": null,
   "id": "17ddd839",
   "metadata": {},
   "outputs": [
    {
     "ename": "AttributeError",
     "evalue": "module 'functions' has no attribute 'plot_all_subject_matrices'",
     "output_type": "error",
     "traceback": [
      "\u001b[0;31m---------------------------------------------------------------------------\u001b[0m",
      "\u001b[0;31mAttributeError\u001b[0m                            Traceback (most recent call last)",
      "Cell \u001b[0;32mIn[35], line 1\u001b[0m\n\u001b[0;32m----> 1\u001b[0m functions\u001b[38;5;241m.\u001b[39mplot_all_subject_matrices()\n",
      "\u001b[0;31mAttributeError\u001b[0m: module 'functions' has no attribute 'plot_all_subject_matrices'"
     ]
    }
   ],
   "source": [
    "functions.plot_all_subject_matrices(folder_path, rois)"
   ]
  },
  {
   "cell_type": "code",
   "execution_count": null,
   "id": "d77a6ef9",
   "metadata": {},
   "outputs": [],
   "source": []
  }
 ],
 "metadata": {
  "kernelspec": {
   "display_name": "ada",
   "language": "python",
   "name": "python3"
  },
  "language_info": {
   "codemirror_mode": {
    "name": "ipython",
    "version": 3
   },
   "file_extension": ".py",
   "mimetype": "text/x-python",
   "name": "python",
   "nbconvert_exporter": "python",
   "pygments_lexer": "ipython3",
   "version": "3.11.9"
  }
 },
 "nbformat": 4,
 "nbformat_minor": 5
}

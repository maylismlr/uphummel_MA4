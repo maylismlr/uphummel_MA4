{
 "cells": [
  {
   "cell_type": "markdown",
   "id": "20217c46",
   "metadata": {},
   "source": [
    "### Trying to cluster"
   ]
  },
  {
   "cell_type": "code",
   "execution_count": 1,
   "id": "67583543",
   "metadata": {},
   "outputs": [],
   "source": [
    "import functions\n",
    "\n",
    "import os\n",
    "import scipy.io\n",
    "import pandas as pd\n",
    "import numpy as np\n",
    "import seaborn as sns\n",
    "import matplotlib.pyplot as plt\n",
    "\n",
    "# for clustering\n",
    "from sklearn.preprocessing import StandardScaler\n",
    "from sklearn.cluster import KMeans\n",
    "from sklearn.decomposition import PCA\n",
    "from sklearn.metrics import silhouette_score\n",
    "\n",
    "# for statistical tests\n",
    "from scipy.stats import ttest_rel\n",
    "from statsmodels.stats.multitest import multipletests\n",
    "import numpy as np"
   ]
  },
  {
   "cell_type": "code",
   "execution_count": 2,
   "id": "105abedb",
   "metadata": {},
   "outputs": [
    {
     "name": "stdout",
     "output_type": "stream",
     "text": [
      "Index(['subject_full_id', 'TimePoint', 'Behavioral_assessment', 'MRI',\n",
      "       'Gender', 'Age', 'Education_level', 'Lesion_side_old', 'Lesion_side',\n",
      "       'Combined', 'Bilateral', 'Comments', 'Stroke_location',\n",
      "       'lesion_volume_mm3', 'NIHSS', 'FAB_abstraction', 'FAB_flexibility',\n",
      "       'FAB_programmation', 'FAB_sensitivity_to_interference',\n",
      "       'FAB_inhibitory_control', 'FAB_environmental_autonomy', 'FAB_TOT',\n",
      "       'Stroop_color_time', 'Stroop_color_error', 'Stroop_words_time',\n",
      "       'Stroop_words_error', 'Stroop_interference_time',\n",
      "       'Stroop_interference_error', 'Stroop_index_WC', 'Stroop_index_InC',\n",
      "       'Digit_forward_SPAN', 'Digit_forward_TOTAL', 'Digit_backward_SPAN',\n",
      "       'Digit_backward_TOTAL', 'Digit_sequencing_SPAN',\n",
      "       'Digit_sequencing_TOTAL', 'Digit_TOTAL',\n",
      "       'Fugl_Meyer_right_UPPER_EXTREMITY', 'Fugl_Meyer_right_WRIST',\n",
      "       'Fugl_Meyer_right_HAND', 'Fugl_Meyer_right_COORDINATION_SPEED',\n",
      "       'Fugl_Meyer_right_TOTAL', 'Fugl_Meyer_left_UPPER_EXTREMITY',\n",
      "       'Fugl_Meyer_left_WRIST', 'Fugl_Meyer_left_HAND',\n",
      "       'Fugl_Meyer_left_COORDINATION_SPEED', 'Fugl_Meyer_left_TOTAL',\n",
      "       'B_B_laterality', 'B_B_blocks_right_hand', 'B_B_blocks_left_hand',\n",
      "       'B_B_blocks_affected_hand', 'B_B_blocks_unaffected_hand',\n",
      "       'B_B_blocks_affected', 'B_B_blocks_unaffected', 'nmf_executive',\n",
      "       'nmf_motor', 'FPCN_intra_aff_FC', 'SMN_intra_aff_FC',\n",
      "       'FPCN_intra_unaff_FC', 'SMN_intra_unaff_FC', 'FPCN_inter_FC',\n",
      "       'SMN_inter_FC'],\n",
      "      dtype='object')\n",
      "           subject_id Lesioned hemisphere                    Lesion location  \\\n",
      "0   sub-TIMESwp11s001                   R                         cerebellum   \n",
      "1   sub-TIMESwp11s003                   R                              mixed   \n",
      "2   sub-TIMESwp11s006                   L                        subcortical   \n",
      "3   sub-TIMESwp11s008                   R                              mixed   \n",
      "4   sub-TIMESwp11s011                   R           pons + medulla oblongata   \n",
      "5   sub-TIMESwp11s013                   R                           cortical   \n",
      "6   sub-TIMESwp11s014                   R                              mixed   \n",
      "7   sub-TIMESwp11s016                   R                           cortical   \n",
      "8   sub-TIMESwp11s017                   L                      basal ganglia   \n",
      "9   sub-TIMESwp11s019                   L                      basal ganglia   \n",
      "10  sub-TIMESwp11s021                   L                        subcortical   \n",
      "11  sub-TIMESwp11s027                   R  subcortical (maybe basal ganglia)   \n",
      "12  sub-TIMESwp11s036                   R                        subcortical   \n",
      "13  sub-TIMESwp11s039                   R                              mixed   \n",
      "14  sub-TIMESwp11s041                   L                        subcortical   \n",
      "15  sub-TIMESwp11s042                   L                      basal ganglia   \n",
      "16  sub-TIMESwp11s057                   R                              mixed   \n",
      "17  sub-TIMESwp11s067                   R                              mixed   \n",
      "18  sub-TIMESwp11s068                   R                           cortical   \n",
      "19  sub-TIMESwp11s074                   R                              mixed   \n",
      "20  sub-TIMESwp11s075                   L                              mixed   \n",
      "21  sub-TIMESwp11s081                   L                              mixed   \n",
      "\n",
      "    Unnamed: 3  Unnamed: 4  Unnamed: 5  Unnamed: 6  Unnamed: 7  Unnamed: 8  \\\n",
      "0          NaN         NaN         NaN         NaN         NaN         NaN   \n",
      "1          NaN         NaN         NaN         NaN         NaN         NaN   \n",
      "2          NaN         NaN         NaN         NaN         NaN         NaN   \n",
      "3          NaN         NaN         NaN         NaN         NaN         NaN   \n",
      "4          NaN         NaN         NaN         NaN         NaN         NaN   \n",
      "5          NaN         NaN         NaN         NaN         NaN         NaN   \n",
      "6          NaN         NaN         NaN         NaN         NaN         NaN   \n",
      "7          NaN         NaN         NaN         NaN         NaN         NaN   \n",
      "8          NaN         NaN         NaN         NaN         NaN         NaN   \n",
      "9          NaN         NaN         NaN         NaN         NaN         NaN   \n",
      "10         NaN         NaN         NaN         NaN         NaN         NaN   \n",
      "11         NaN         NaN         NaN         NaN         NaN         NaN   \n",
      "12         NaN         NaN         NaN         NaN         NaN         NaN   \n",
      "13         NaN         NaN         NaN         NaN         NaN         NaN   \n",
      "14         NaN         NaN         NaN         NaN         NaN         NaN   \n",
      "15         NaN         NaN         NaN         NaN         NaN         NaN   \n",
      "16         NaN         NaN         NaN         NaN         NaN         NaN   \n",
      "17         NaN         NaN         NaN         NaN         NaN         NaN   \n",
      "18         NaN         NaN         NaN         NaN         NaN         NaN   \n",
      "19         NaN         NaN         NaN         NaN         NaN         NaN   \n",
      "20         NaN         NaN         NaN         NaN         NaN         NaN   \n",
      "21         NaN         NaN         NaN         NaN         NaN         NaN   \n",
      "\n",
      "    Unnamed: 9  Unnamed: 10  Unnamed: 11  \\\n",
      "0          NaN          NaN          NaN   \n",
      "1          NaN          NaN          NaN   \n",
      "2          NaN          NaN          NaN   \n",
      "3          NaN          NaN          NaN   \n",
      "4          NaN          NaN          NaN   \n",
      "5          NaN          NaN          NaN   \n",
      "6          NaN          NaN          NaN   \n",
      "7          NaN          NaN          NaN   \n",
      "8          NaN          NaN          NaN   \n",
      "9          NaN          NaN          NaN   \n",
      "10         NaN          NaN          NaN   \n",
      "11         NaN          NaN          NaN   \n",
      "12         NaN          NaN          NaN   \n",
      "13         NaN          NaN          NaN   \n",
      "14         NaN          NaN          NaN   \n",
      "15         NaN          NaN          NaN   \n",
      "16         NaN          NaN          NaN   \n",
      "17         NaN          NaN          NaN   \n",
      "18         NaN          NaN          NaN   \n",
      "19         NaN          NaN          NaN   \n",
      "20         NaN          NaN          NaN   \n",
      "21         NaN          NaN          NaN   \n",
      "\n",
      "                                           LEGEND  \n",
      "0                                 skipped session  \n",
      "1   failed preprocessing (coregistration T1-func)  \n",
      "2                                             NaN  \n",
      "3                                             NaN  \n",
      "4                                             NaN  \n",
      "5                                             NaN  \n",
      "6                                             NaN  \n",
      "7                                             NaN  \n",
      "8                                             NaN  \n",
      "9                                             NaN  \n",
      "10                                            NaN  \n",
      "11                                            NaN  \n",
      "12                                            NaN  \n",
      "13                                            NaN  \n",
      "14                                            NaN  \n",
      "15                                            NaN  \n",
      "16                                            NaN  \n",
      "17                                            NaN  \n",
      "18                                            NaN  \n",
      "19                                            NaN  \n",
      "20                                            NaN  \n",
      "21                                            NaN  \n"
     ]
    }
   ],
   "source": [
    "rsfMRI_info = pd.read_excel(\"data/TiMeS_rsfMRI_info.xlsx\", engine=\"openpyxl\")  \n",
    "regression_info = pd.read_excel(\"data/TiMeS_regression_info_processed.xlsx\", engine=\"openpyxl\")\n",
    "rsfMRI_full_info = pd.read_excel(\"data/TiMeS_rsfMRI_full_info.xlsx\", engine=\"openpyxl\")\n",
    "print(regression_info.columns)\n",
    "print(rsfMRI_info)\n",
    "regression_info=regression_info[['Stroke_location', 'Lesion_side', 'lesion_volume_mm3']]"
   ]
  },
  {
   "cell_type": "code",
   "execution_count": 3,
   "id": "b289c113",
   "metadata": {},
   "outputs": [],
   "source": [
    "# Folder containing the data\n",
    "folder_path = \"FC_matrices_times_wp11/\"\n",
    "\n",
    "# keep only ROIS\n",
    "rois = [363, 364, 365, 368, 372, 373, 374, 377, 379, 361, 370, 362, 371, 10, 11, 12, 54, 56, 78, 96, 190, 191, 192, 234, 236, 258, 276, 8, 9, 51, 52, 53, 188, 189, 231, 232, 233]\n",
    "rois = [roi - 1 for roi in rois]\n",
    "\n",
    "t1_matrices, regression_info, rsfMRI_full_info, t1_subjects = functions.load_data(folder_path, rois, type='t1_only')\n",
    "all_matrices, regression_info, rsfMRI_full_info, all_subjects = functions.load_data(folder_path, rois, type='all')\n",
    "t1_t3_matched, regression_info, rsfMRI_full_info, t1_t3_subjects = functions.load_data(folder_path, rois, type='t1_t3_matched')\n",
    "t1_t4_matched, regression_info, rsfMRI_full_info, t1_t4_subjects = functions.load_data(folder_path, rois, type='t1_t4_matched')\n",
    "t1_t3_matrices, regression_info, rsfMRI_full_info, t1_t3_subjects = functions.load_data(folder_path, rois, type='t1_t3')\n",
    "t1_t4_matrices, regression_info, rsfMRI_full_info, t1_t4_subjects = functions.load_data(folder_path, rois, type='t1_t4')\n",
    "#matrices = functions.matrices_to_wide_df(matrices)"
   ]
  },
  {
   "cell_type": "markdown",
   "id": "4ee9a058",
   "metadata": {},
   "source": [
    "Better to keep T1 and T3 as more subjects have these two !\n",
    "From now on I'll work with matrices"
   ]
  },
  {
   "cell_type": "code",
   "execution_count": 4,
   "id": "bbe85a60",
   "metadata": {},
   "outputs": [
    {
     "name": "stdout",
     "output_type": "stream",
     "text": [
      "matrices column names:  Index(['subject_id', 'T1_matrix', 'T3_matrix', 'subject_full_id',\n",
      "       'Lesion_side', 'Stroke_location', 'lesion_volume_mm3', 'Gender', 'Age',\n",
      "       'Education_level', 'Combined', 'Bilateral'],\n",
      "      dtype='object')\n"
     ]
    }
   ],
   "source": [
    "print(\"matrices column names: \", t1_t3_matrices.columns)"
   ]
  },
  {
   "cell_type": "markdown",
   "id": "574d55a2",
   "metadata": {},
   "source": [
    "##### Cluster for all matrices"
   ]
  },
  {
   "cell_type": "code",
   "execution_count": 7,
   "id": "5bf11719",
   "metadata": {},
   "outputs": [
    {
     "name": "stdout",
     "output_type": "stream",
     "text": [
      "Index(['Lesion_side_R', 'Lesion_side_R/L', 'Stroke_location_basal ganglia',\n",
      "       'Stroke_location_cerebellum', 'Stroke_location_cortical',\n",
      "       'Stroke_location_cortical (insula)',\n",
      "       'Stroke_location_insula + basal ganglia', 'Stroke_location_mixed',\n",
      "       'Stroke_location_pons', 'Stroke_location_pons + medulla oblongata',\n",
      "       'Stroke_location_subcortical',\n",
      "       'Stroke_location_subcortical (maybe basal ganglia)',\n",
      "       'Stroke_location_subcortical + basal ganglia', 'Gender_2.0',\n",
      "       'Gender_Unknown', 'Age_36.0', 'Age_40.0', 'Age_44.0', 'Age_45.0',\n",
      "       'Age_47.0', 'Age_48.0', 'Age_49.0', 'Age_54.0', 'Age_56.0', 'Age_57.0',\n",
      "       'Age_59.0', 'Age_60.0', 'Age_61.0', 'Age_62.0', 'Age_63.0', 'Age_64.0',\n",
      "       'Age_65.0', 'Age_66.0', 'Age_67.0', 'Age_68.0', 'Age_69.0', 'Age_70.0',\n",
      "       'Age_71.0', 'Age_72.0', 'Age_73.0', 'Age_74.0', 'Age_75.0', 'Age_76.0',\n",
      "       'Age_77.0', 'Age_78.0', 'Age_81.0', 'Age_82.0', 'Age_85.0', 'Age_87.0',\n",
      "       'Age_88.0', 'Age_89.0', 'Age_93.0', 'Age_Unknown',\n",
      "       'Education_level_2.0', 'Education_level_3.0', 'Education_level_4.0',\n",
      "       'Education_level_5.0', 'Education_level_Unknown', 'Combined_Unknown',\n",
      "       'Combined_Yes', 'Bilateral_Unknown', 'Bilateral_Yes'],\n",
      "      dtype='object')\n"
     ]
    },
    {
     "name": "stderr",
     "output_type": "stream",
     "text": [
      "/Users/maylismuller/Desktop/EPFL_DOCS/Master/MA4/Project Hummel/uphummel_MA4/functions.py:169: SettingWithCopyWarning: \n",
      "A value is trying to be set on a copy of a slice from a DataFrame.\n",
      "Try using .loc[row_indexer,col_indexer] = value instead\n",
      "\n",
      "See the caveats in the documentation: https://pandas.pydata.org/pandas-docs/stable/user_guide/indexing.html#returning-a-view-versus-a-copy\n",
      "  matrices[categorical_cols_name] = matrices[categorical_cols_name].fillna('Unknown')  # Handle missing values\n"
     ]
    },
    {
     "data": {
      "image/png": "[encoded data removed]",
      "text/plain": [
       "<Figure size 640x480 with 2 Axes>"
      ]
     },
     "metadata": {},
     "output_type": "display_data"
    },
    {
     "name": "stdout",
     "output_type": "stream",
     "text": [
      "Silhouette score: 0.03264549240320621\n",
      "Cluster 0: ['s063', 's012', 's015', 's082', 's071', 's003', 's033', 's045', 's042', 's080', 's073', 's086']\n",
      "Cluster 1: ['s004']\n",
      "Cluster 2: ['s030', 's039', 's048', 's059', 's074']\n",
      "Cluster 3: ['s007', 's031', 's009', 's036', 's062', 's065', 's054', 's008', 's037', 's006', 's001', 's055', 's052', 's041', 's046', 's070', 's083', 's049', 's076', 's078', 's047', 's040', 's014', 's013', 's025', 's022', 's066', 's057', 's068', 's050', 's032', 's051', 's060', 's067', 's002', 's005', 's027', 's020', 's016', 's029', 's011', 's017', 's021', 's019', 's072', 's081', 's075']\n"
     ]
    }
   ],
   "source": [
    "categorical_cols = ['Lesion_side', 'Stroke_location','Gender','Age','Education_level','Combined', 'Bilateral']\n",
    "numerical_cols = ['lesion_volume_mm3']\n",
    "\n",
    "all_matrices_labeled = functions.cluster_and_plot(all_matrices, numerical_cols_names= numerical_cols, categorical_cols_name=categorical_cols, clusters=4)\n",
    "#t1_t3_matrices_labeled = functions.cluster_and_plot(t1_t3_matrices, numerical_cols_names= numerical_cols, categorical_cols_name=categorical_cols, clusters=4)\n",
    "#t1_t4_matrices_labeled = functions.cluster_and_plot(t1_t4_matrices, numerical_cols_names= numerical_cols, categorical_cols_name=categorical_cols, clusters=4)\n",
    "\n",
    "# NORMAL THAT WE GET THE SAME CLUSTERS FOR ALL TIMEPOINTS\n",
    "# because we are using the same data for clustering (T1)"
   ]
  },
  {
   "cell_type": "code",
   "execution_count": 6,
   "id": "69bb9b4b",
   "metadata": {},
   "outputs": [
    {
     "ename": "ValueError",
     "evalue": "all input arrays must have the same shape",
     "output_type": "error",
     "traceback": [
      "\u001b[0;31m---------------------------------------------------------------------------\u001b[0m",
      "\u001b[0;31mValueError\u001b[0m                                Traceback (most recent call last)",
      "Cell \u001b[0;32mIn[6], line 1\u001b[0m\n\u001b[0;32m----> 1\u001b[0m significant_matrix, p_vals_corrected, reject \u001b[38;5;241m=\u001b[39m functions\u001b[38;5;241m.\u001b[39mget_sig_matrix(t1_t3_matrices)\n",
      "File \u001b[0;32m~/Desktop/EPFL_DOCS/Master/MA4/Project Hummel/uphummel_MA4/functions.py:233\u001b[0m, in \u001b[0;36mget_sig_matrix\u001b[0;34m(df, tp, alpha, cluster)\u001b[0m\n\u001b[1;32m    230\u001b[0m t_matrices \u001b[38;5;241m=\u001b[39m [matrix\u001b[38;5;241m.\u001b[39mvalues \u001b[38;5;28;01mif\u001b[39;00m \u001b[38;5;28misinstance\u001b[39m(matrix, pd\u001b[38;5;241m.\u001b[39mDataFrame) \u001b[38;5;28;01melse\u001b[39;00m matrix \u001b[38;5;28;01mfor\u001b[39;00m matrix \u001b[38;5;129;01min\u001b[39;00m df[\u001b[38;5;124mf\u001b[39m\u001b[38;5;124m'\u001b[39m\u001b[38;5;124mT\u001b[39m\u001b[38;5;132;01m{\u001b[39;00mtp\u001b[38;5;132;01m}\u001b[39;00m\u001b[38;5;124m_matrix\u001b[39m\u001b[38;5;124m'\u001b[39m]]\n\u001b[1;32m    232\u001b[0m \u001b[38;5;66;03m# Optionally convert to numpy arrays (shape: [n_subjects, n_rois, n_rois])\u001b[39;00m\n\u001b[0;32m--> 233\u001b[0m t1_array \u001b[38;5;241m=\u001b[39m np\u001b[38;5;241m.\u001b[39mstack(t1_matrices)\n\u001b[1;32m    234\u001b[0m t_array \u001b[38;5;241m=\u001b[39m np\u001b[38;5;241m.\u001b[39mstack(t_matrices)\n\u001b[1;32m    236\u001b[0m \u001b[38;5;28mprint\u001b[39m(\u001b[38;5;124m\"\u001b[39m\u001b[38;5;124mshape of T1 matrix: \u001b[39m\u001b[38;5;124m\"\u001b[39m, np\u001b[38;5;241m.\u001b[39mshape(t1_matrices))\n",
      "File \u001b[0;32m~/opt/anaconda3/envs/ada/lib/python3.11/site-packages/numpy/core/shape_base.py:449\u001b[0m, in \u001b[0;36mstack\u001b[0;34m(arrays, axis, out, dtype, casting)\u001b[0m\n\u001b[1;32m    447\u001b[0m shapes \u001b[38;5;241m=\u001b[39m {arr\u001b[38;5;241m.\u001b[39mshape \u001b[38;5;28;01mfor\u001b[39;00m arr \u001b[38;5;129;01min\u001b[39;00m arrays}\n\u001b[1;32m    448\u001b[0m \u001b[38;5;28;01mif\u001b[39;00m \u001b[38;5;28mlen\u001b[39m(shapes) \u001b[38;5;241m!=\u001b[39m \u001b[38;5;241m1\u001b[39m:\n\u001b[0;32m--> 449\u001b[0m     \u001b[38;5;28;01mraise\u001b[39;00m \u001b[38;5;167;01mValueError\u001b[39;00m(\u001b[38;5;124m'\u001b[39m\u001b[38;5;124mall input arrays must have the same shape\u001b[39m\u001b[38;5;124m'\u001b[39m)\n\u001b[1;32m    451\u001b[0m result_ndim \u001b[38;5;241m=\u001b[39m arrays[\u001b[38;5;241m0\u001b[39m]\u001b[38;5;241m.\u001b[39mndim \u001b[38;5;241m+\u001b[39m \u001b[38;5;241m1\u001b[39m\n\u001b[1;32m    452\u001b[0m axis \u001b[38;5;241m=\u001b[39m normalize_axis_index(axis, result_ndim)\n",
      "\u001b[0;31mValueError\u001b[0m: all input arrays must have the same shape"
     ]
    }
   ],
   "source": [
    "significant_matrix, p_vals_corrected, reject = functions.get_sig_matrix(t1_t3_matrices)"
   ]
  },
  {
   "cell_type": "code",
   "execution_count": null,
   "id": "85a4a49a",
   "metadata": {},
   "outputs": [],
   "source": [
    "t1_t4_matrices_labeled = functions.cluster_and_plot(t1_t4_matrices, numerical_cols_names= numerical_cols, categorical_cols_name=categorical_cols, clusters=2)"
   ]
  },
  {
   "cell_type": "markdown",
   "id": "4703fe18",
   "metadata": {},
   "source": [
    "### Beginning of statistical testing"
   ]
  },
  {
   "cell_type": "code",
   "execution_count": null,
   "id": "6dd47674",
   "metadata": {},
   "outputs": [],
   "source": [
    "def compare_T1_T4(df, rois, alpha=0.05):\n",
    "    T1_matrices = df['T1_matrix']\n",
    "    T4_matrices = df['T4_matrix']\n",
    "\n",
    "    # Ensure matching subjects\n",
    "    common_subjects = set(T1_matrices.index) & set(T4_matrices.index)\n",
    "    T1 = [functions.flatten_upper(df.loc[s, 'T1_matrix']) for s in common_subjects]\n",
    "    T4 = [functions.flatten_upper(df.loc[s, 'T4_matrix']) for s in common_subjects]\n",
    "\n",
    "    X_T1 = np.array(T1)\n",
    "    print(\"X_T1 shape: \", np.shape(X_T1))\n",
    "    X_T4 = np.array(T4)\n",
    "    print(\"X_T4 shape: \", np.shape(X_T4))\n",
    "\n",
    "    # Paired t-test\n",
    "    t_stats, p_vals = ttest_rel(X_T1, X_T4, axis=0)\n",
    "\n",
    "    # Multiple comparisons correction (FDR)\n",
    "    reject, p_vals_corrected, _, _ = multipletests(p_vals, alpha=alpha, method='fdr_bh')\n",
    "\n",
    "    # Create a matrix to visualize\n",
    "    n_edges = X_T1.shape[1]\n",
    "    n_rois = len(rois)\n",
    "    signif_matrix = np.zeros((n_rois, n_rois))\n",
    "\n",
    "    # Fill upper triangle\n",
    "    triu_idx = np.triu_indices(n_rois, k=1)\n",
    "    signif_matrix[triu_idx] = reject.astype(int)\n",
    "    signif_matrix += signif_matrix.T  # Make symmetric\n",
    "\n",
    "    return signif_matrix, p_vals_corrected.reshape(-1), reject.reshape(-1)\n",
    "\n",
    "# Visualize\n",
    "signif_matrix, p_corrected, reject = compare_T1_T4(all_matrices, rois)\n",
    "\n",
    "plt.figure(figsize=(8, 6))\n",
    "sns.heatmap(signif_matrix, cmap='Reds', square=True, cbar=False)\n",
    "plt.title('Significant Connectivity Changes (T1 vs T4)')\n",
    "plt.show()\n",
    "print(signif_matrix)\n"
   ]
  },
  {
   "cell_type": "code",
   "execution_count": null,
   "id": "ea631b20",
   "metadata": {},
   "outputs": [],
   "source": [
    "def compare_T1_T3(df, rois, alpha=0.05):\n",
    "    T1_matrices = df['T1_matrix']\n",
    "    T3_matrices = df['T3_matrix']\n",
    "\n",
    "    # Ensure matching subjects\n",
    "    common_subjects = set(T1_matrices.index) & set(T3_matrices.index)\n",
    "    T1 = [functions.flatten_upper(df.loc[s, 'T1_matrix']) for s in common_subjects]\n",
    "    T3 = [functions.flatten_upper(df.loc[s, 'T3_matrix']) for s in common_subjects]\n",
    "\n",
    "    X_T1 = np.array(T1)\n",
    "    print(\"X_T1 shape: \", np.shape(X_T1))\n",
    "    X_T3 = np.array(T3)\n",
    "    print(\"X_T4 shape: \", np.shape(X_T3))\n",
    "\n",
    "    # Paired t-test\n",
    "    t_stats, p_vals = ttest_rel(X_T1, X_T3, axis=0)\n",
    "\n",
    "    # Multiple comparisons correction (FDR)\n",
    "    reject, p_vals_corrected, _, _ = multipletests(p_vals, alpha=alpha, method='fdr_bh')\n",
    "\n",
    "    # Create a matrix to visualize\n",
    "    n_edges = X_T1.shape[1]\n",
    "    n_rois = len(rois)\n",
    "    signif_matrix = np.zeros((n_rois, n_rois))\n",
    "\n",
    "    # Fill upper triangle\n",
    "    triu_idx = np.triu_indices(n_rois, k=1)\n",
    "    signif_matrix[triu_idx] = reject.astype(int)\n",
    "    signif_matrix += signif_matrix.T  # Make symmetric\n",
    "\n",
    "    return signif_matrix, p_vals_corrected.reshape(-1), reject.reshape(-1)\n",
    "\n",
    "# Visualize\n",
    "signif_matrix, p_corrected, reject = compare_T1_T3(t1_t3_matrices, rois)\n",
    "\n",
    "plt.figure(figsize=(8, 6))\n",
    "sns.heatmap(signif_matrix, cmap='Reds', square=True, cbar=False)\n",
    "plt.title('Significant Connectivity Changes (T1 vs T4)')\n",
    "plt.show()\n",
    "print(signif_matrix)\n"
   ]
  },
  {
   "cell_type": "code",
   "execution_count": null,
   "id": "0084f803",
   "metadata": {},
   "outputs": [],
   "source": [
    "from scipy.stats import ttest_rel\n",
    "from statsmodels.stats.multitest import multipletests\n",
    "import numpy as np\n",
    "import matplotlib.pyplot as plt\n",
    "import seaborn as sns\n",
    "\n",
    "def compare_T1_T4_by_cluster(df, rois, alpha=0.05):\n",
    "    n_rois = len(rois)\n",
    "    results = {}\n",
    "\n",
    "    for cluster in sorted(df['cluster'].unique()):\n",
    "        print(f\"\\nAnalyzing Cluster {cluster}...\")\n",
    "\n",
    "        # Subset to current cluster\n",
    "        cluster_df = df[df['cluster'] == cluster]\n",
    "\n",
    "        # Ensure subjects have both T1 and T4\n",
    "        cluster_df = cluster_df.dropna(subset=['T1_matrix', 'T4_matrix'])\n",
    "\n",
    "        if cluster_df.empty:\n",
    "            print(f\" - No data for Cluster {cluster}\")\n",
    "            continue\n",
    "\n",
    "        # Flatten matrices\n",
    "        X_T1 = np.array([functions.flatten_upper(m) for m in cluster_df['T1_matrix']])\n",
    "        X_T4 = np.array([functions.flatten_upper(m) for m in cluster_df['T4_matrix']])\n",
    "\n",
    "        # Paired t-test\n",
    "        t_stats, p_vals = ttest_rel(X_T1, X_T4, axis=0)\n",
    "\n",
    "        # FDR correction\n",
    "        reject, p_vals_corrected, _, _ = multipletests(p_vals, alpha=alpha, method='fdr_bh')\n",
    "\n",
    "        # Create symmetric significance matrix\n",
    "        signif_matrix = np.zeros((n_rois, n_rois))\n",
    "        triu_idx = np.triu_indices(n_rois, k=1)\n",
    "        signif_matrix[triu_idx] = reject.astype(int)\n",
    "        signif_matrix += signif_matrix.T\n",
    "\n",
    "        # Store results\n",
    "        results[cluster] = {\n",
    "            'signif_matrix': signif_matrix,\n",
    "            'p_corrected': p_vals_corrected,\n",
    "            'rejected': reject,\n",
    "        }\n",
    "\n",
    "        # Plot\n",
    "        plt.figure(figsize=(7, 6))\n",
    "        sns.heatmap(signif_matrix, cmap='Reds', square=True, cbar=False)\n",
    "        plt.title(f'Significant Changes (T1 vs T4) - Cluster {cluster}')\n",
    "        plt.tight_layout()\n",
    "        plt.show()\n",
    "\n",
    "    return results\n"
   ]
  },
  {
   "cell_type": "markdown",
   "id": "326879c1",
   "metadata": {},
   "source": [
    "#### T1 vs T3"
   ]
  },
  {
   "cell_type": "code",
   "execution_count": null,
   "id": "b7fa97c6",
   "metadata": {},
   "outputs": [],
   "source": [
    "# Create lists of matrices\n",
    "t1_matrices = [matrix.values if isinstance(matrix, pd.DataFrame) else matrix for matrix in t1_t3_matrices['T1_matrix']]\n",
    "t3_matrices = [matrix.values if isinstance(matrix, pd.DataFrame) else matrix for matrix in t1_t3_matrices['T3_matrix']]\n",
    "\n",
    "# Optionally convert to numpy arrays (shape: [n_subjects, n_rois, n_rois])\n",
    "t1_array = np.stack(t1_matrices)\n",
    "t3_array = np.stack(t3_matrices)\n",
    "\n",
    "print(\"shape of T1 matrix: \", np.shape(t1_matrices))\n",
    "print(t1_matrices[0])"
   ]
  },
  {
   "cell_type": "code",
   "execution_count": null,
   "id": "a45137a0",
   "metadata": {},
   "outputs": [],
   "source": [
    "# Paired t-test\n",
    "t_stat, p_val = ttest_rel(t1_array, t3_array, axis=0)\n",
    "\n",
    "# Flatten p-values to 1D if needed\n",
    "p_val_flat = p_val.ravel()\n",
    "\n",
    "# FDR correction\n",
    "alpha = 0.05\n",
    "reject, p_vals_corrected, _, _ = multipletests(p_val_flat, alpha=alpha, method='holm')\n",
    "\n",
    "# Reshape corrected p-values and reject back to original shape if necessary\n",
    "p_vals_corrected = p_vals_corrected.reshape(p_val.shape)\n",
    "reject = reject.reshape(p_val.shape)\n",
    "\n",
    "# Create significant matrix\n",
    "significant_matrix = np.zeros_like(p_val, dtype=int)\n",
    "significant_matrix[reject] = 1\n",
    "\n",
    "import seaborn as sns\n",
    "import matplotlib.pyplot as plt\n",
    "\n",
    "plt.figure(figsize=(10, 6))\n",
    "sns.heatmap(significant_matrix, cmap='viridis', cbar=True, annot=True, square=True)\n",
    "plt.title(\"Significance Heatmap (FDR-corrected)\")\n",
    "plt.xlabel(\"ROIs\")\n",
    "plt.ylabel(\"ROIs\")\n",
    "plt.tight_layout()\n",
    "plt.show()\n",
    "\n",
    "def make_plot(matrix, sub, cmap, vmin=0,vmax = 1, saveas = \"sub\"):\n",
    "    \n",
    "    plt.imshow(matrix, cmap= cmap, vmin= vmin, vmax=vmax, interpolation='Nearest') \n",
    "    plt.colorbar(label='0 = insignificant ; 1 = significant')\n",
    "    plt.title(f'p-values of {sub}')\n",
    "    plt.xlabel('Regions')\n",
    "    plt.ylabel('Regions')\n",
    "    #plt.savefig(f'{saveas}.png')\n",
    "    plt.show()\n",
    "    \n",
    "    return None\n",
    "\n",
    "make_plot(significant_matrix, \"T1 vs T3\", cmap = \"viridis\", vmin=0, vmax=1, saveas = \"T1_vs_T3_significant_matrix\")"
   ]
  },
  {
   "cell_type": "markdown",
   "id": "145abe60",
   "metadata": {},
   "source": [
    "#### T1 vs T4"
   ]
  },
  {
   "cell_type": "code",
   "execution_count": null,
   "id": "ce74ca7f",
   "metadata": {},
   "outputs": [],
   "source": [
    "functions.sig_matrix_T1_T(t1_t4_matrices_labeled, rois, tp = 4, alpha=0.05, cluster = False)"
   ]
  },
  {
   "cell_type": "markdown",
   "id": "aceeade9",
   "metadata": {},
   "source": [
    "#### Code to do it by cluster for both T3 and T4"
   ]
  },
  {
   "cell_type": "code",
   "execution_count": null,
   "id": "c98b9778",
   "metadata": {},
   "outputs": [],
   "source": [
    "functions.sig_matrix_T1_T(t1_t4_matrices_labeled, rois, tp = 4, alpha=0.05, cluster = True)"
   ]
  },
  {
   "cell_type": "code",
   "execution_count": null,
   "id": "422308b0",
   "metadata": {},
   "outputs": [],
   "source": [
    "functions.sig_matrix_T1_T(t1_t3_matrices_labeled, rois, tp = 3, alpha=0.05, cluster = True)"
   ]
  },
  {
   "cell_type": "code",
   "execution_count": null,
   "id": "4de2f267",
   "metadata": {},
   "outputs": [],
   "source": [
    "t1_t3_matrices_labeled = functions.cluster_and_plot(t1_t3_matrices, numerical_cols_names= numerical_cols, categorical_cols_name=categorical_cols, clusters=2)\n",
    "functions.compare_T1_T_by_cluster(t1_t3_matrices_labeled, rois, tp = 3, alpha=0.05, cluster = True)"
   ]
  },
  {
   "cell_type": "markdown",
   "id": "f69778e4",
   "metadata": {},
   "source": [
    "### Look at difference between FC"
   ]
  },
  {
   "cell_type": "code",
   "execution_count": null,
   "id": "2882adee",
   "metadata": {},
   "outputs": [],
   "source": [
    "functions.compute_FC_diff(t1_t3_matrices_labeled, tp = 3)"
   ]
  },
  {
   "cell_type": "markdown",
   "id": "08b9691a",
   "metadata": {},
   "source": [
    "### Regression Analysis"
   ]
  },
  {
   "cell_type": "code",
   "execution_count": null,
   "id": "5fc08e9f",
   "metadata": {},
   "outputs": [],
   "source": []
  }
 ],
 "metadata": {
  "kernelspec": {
   "display_name": "ada",
   "language": "python",
   "name": "python3"
  },
  "language_info": {
   "codemirror_mode": {
    "name": "ipython",
    "version": 3
   },
   "file_extension": ".py",
   "mimetype": "text/x-python",
   "name": "python",
   "nbconvert_exporter": "python",
   "pygments_lexer": "ipython3",
   "version": "3.11.9"
  }
 },
 "nbformat": 4,
 "nbformat_minor": 5
}

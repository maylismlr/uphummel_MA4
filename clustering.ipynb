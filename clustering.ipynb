{
 "cells": [
  {
   "cell_type": "markdown",
   "id": "20217c46",
   "metadata": {},
   "source": [
    "### Trying to cluster"
   ]
  },
  {
   "cell_type": "code",
   "execution_count": 15,
   "id": "67583543",
   "metadata": {},
   "outputs": [],
   "source": [
    "import functions\n",
    "import numpy as np"
   ]
  },
  {
   "cell_type": "code",
   "execution_count": 16,
   "id": "b289c113",
   "metadata": {},
   "outputs": [
    {
     "ename": "AttributeError",
     "evalue": "module 'functions' has no attribute 'load_data_T1_only'",
     "output_type": "error",
     "traceback": [
      "\u001b[0;31m---------------------------------------------------------------------------\u001b[0m",
      "\u001b[0;31mAttributeError\u001b[0m                            Traceback (most recent call last)",
      "Cell \u001b[0;32mIn[16], line 8\u001b[0m\n\u001b[1;32m      5\u001b[0m rois \u001b[38;5;241m=\u001b[39m [\u001b[38;5;241m363\u001b[39m, \u001b[38;5;241m364\u001b[39m, \u001b[38;5;241m365\u001b[39m, \u001b[38;5;241m368\u001b[39m, \u001b[38;5;241m372\u001b[39m, \u001b[38;5;241m373\u001b[39m, \u001b[38;5;241m374\u001b[39m, \u001b[38;5;241m377\u001b[39m, \u001b[38;5;241m379\u001b[39m, \u001b[38;5;241m361\u001b[39m, \u001b[38;5;241m370\u001b[39m, \u001b[38;5;241m362\u001b[39m, \u001b[38;5;241m371\u001b[39m, \u001b[38;5;241m10\u001b[39m, \u001b[38;5;241m11\u001b[39m, \u001b[38;5;241m12\u001b[39m, \u001b[38;5;241m54\u001b[39m, \u001b[38;5;241m56\u001b[39m, \u001b[38;5;241m78\u001b[39m, \u001b[38;5;241m96\u001b[39m, \u001b[38;5;241m190\u001b[39m, \u001b[38;5;241m191\u001b[39m, \u001b[38;5;241m192\u001b[39m, \u001b[38;5;241m234\u001b[39m, \u001b[38;5;241m236\u001b[39m, \u001b[38;5;241m258\u001b[39m, \u001b[38;5;241m276\u001b[39m, \u001b[38;5;241m8\u001b[39m, \u001b[38;5;241m9\u001b[39m, \u001b[38;5;241m51\u001b[39m, \u001b[38;5;241m52\u001b[39m, \u001b[38;5;241m53\u001b[39m, \u001b[38;5;241m188\u001b[39m, \u001b[38;5;241m189\u001b[39m, \u001b[38;5;241m231\u001b[39m, \u001b[38;5;241m232\u001b[39m, \u001b[38;5;241m233\u001b[39m]\n\u001b[1;32m      6\u001b[0m rois \u001b[38;5;241m=\u001b[39m [roi \u001b[38;5;241m-\u001b[39m \u001b[38;5;241m1\u001b[39m \u001b[38;5;28;01mfor\u001b[39;00m roi \u001b[38;5;129;01min\u001b[39;00m rois]\n\u001b[0;32m----> 8\u001b[0m t1_matrices, rsfMRI_full_info, rsfMRI_info, t1_subjects \u001b[38;5;241m=\u001b[39m functions\u001b[38;5;241m.\u001b[39mload_data_T1_only(folder_path, rois)\n\u001b[1;32m      9\u001b[0m matrices, rsfMRI_full_info, rsfMRI_info, subjects \u001b[38;5;241m=\u001b[39m functions\u001b[38;5;241m.\u001b[39mload_data(folder_path, rois)\n",
      "\u001b[0;31mAttributeError\u001b[0m: module 'functions' has no attribute 'load_data_T1_only'"
     ]
    }
   ],
   "source": [
    "# Folder containing the data\n",
    "folder_path = \"FC_matrices_times_wp11/\"\n",
    "\n",
    "# keep only ROIS\n",
    "rois = [363, 364, 365, 368, 372, 373, 374, 377, 379, 361, 370, 362, 371, 10, 11, 12, 54, 56, 78, 96, 190, 191, 192, 234, 236, 258, 276, 8, 9, 51, 52, 53, 188, 189, 231, 232, 233]\n",
    "rois = [roi - 1 for roi in rois]\n",
    "\n",
    "t1_matrices, rsfMRI_full_info, rsfMRI_info, t1_subjects = functions.load_data_T1_only(folder_path, rois)\n",
    "matrices, rsfMRI_full_info, rsfMRI_info, subjects = functions.load_data(folder_path, rois)"
   ]
  },
  {
   "cell_type": "code",
   "execution_count": 13,
   "id": "9779605e",
   "metadata": {},
   "outputs": [
    {
     "name": "stdout",
     "output_type": "stream",
     "text": [
      "t1_matrices shape:  (22, 37, 37)\n"
     ]
    }
   ],
   "source": [
    "print(\"t1_matrices shape: \", np.shape(t1_matrices))"
   ]
  },
  {
   "cell_type": "code",
   "execution_count": null,
   "id": "7f24acb1",
   "metadata": {},
   "outputs": [],
   "source": []
  }
 ],
 "metadata": {
  "kernelspec": {
   "display_name": "ada",
   "language": "python",
   "name": "python3"
  },
  "language_info": {
   "codemirror_mode": {
    "name": "ipython",
    "version": 3
   },
   "file_extension": ".py",
   "mimetype": "text/x-python",
   "name": "python",
   "nbconvert_exporter": "python",
   "pygments_lexer": "ipython3",
   "version": "3.11.9"
  }
 },
 "nbformat": 4,
 "nbformat_minor": 5
}

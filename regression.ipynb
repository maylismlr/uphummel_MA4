{
 "cells": [
  {
   "cell_type": "markdown",
   "id": "2a7d00a7",
   "metadata": {},
   "source": [
    "# Regression 2"
   ]
  },
  {
   "cell_type": "code",
   "execution_count": 1,
   "id": "7bba3d73",
   "metadata": {},
   "outputs": [],
   "source": [
    "import functions\n",
    "\n",
    "import os\n",
    "import scipy.io\n",
    "import pandas as pd\n",
    "import numpy as np\n",
    "import seaborn as sns\n",
    "import matplotlib.pyplot as plt\n",
    "\n",
    "# for clustering\n",
    "from sklearn.preprocessing import StandardScaler, OneHotEncoder\n",
    "from sklearn.cluster import KMeans\n",
    "from sklearn.decomposition import PCA\n",
    "from sklearn.metrics import silhouette_score\n",
    "from sklearn.model_selection import train_test_split\n",
    "\n",
    "# for statistical tests\n",
    "from scipy.stats import ttest_rel, ttest_ind\n",
    "from statsmodels.stats.multitest import multipletests"
   ]
  },
  {
   "cell_type": "code",
   "execution_count": 2,
   "id": "7c6bdcf6",
   "metadata": {},
   "outputs": [
    {
     "data": {
      "text/plain": [
       "<module 'functions' from '/Users/maylismuller/Desktop/EPFL_DOCS/Master/MA4/Project Hummel/uphummel_MA4/functions.py'>"
      ]
     },
     "execution_count": 2,
     "metadata": {},
     "output_type": "execute_result"
    }
   ],
   "source": [
    "import importlib\n",
    "importlib.reload(functions)"
   ]
  },
  {
   "cell_type": "markdown",
   "id": "2c993fdf",
   "metadata": {},
   "source": [
    "## Loading the data"
   ]
  },
  {
   "cell_type": "code",
   "execution_count": null,
   "id": "0c19da70",
   "metadata": {},
   "outputs": [
    {
     "name": "stdout",
     "output_type": "stream",
     "text": [
      "Trying to load: TiMeS_matrix_mdImputed_allT4.xlsx\n",
      "✅ Successfully loaded: TiMeS_matrix_mdImputed_allT4.xlsx\n",
      "Trying to load: TiMeS_matrix_mdImputed_allT3.xlsx\n",
      "✅ Successfully loaded: TiMeS_matrix_mdImputed_allT3.xlsx\n",
      "Trying to load: TiMeS_matrix_mdImputed_allT2.xlsx\n",
      "✅ Successfully loaded: TiMeS_matrix_mdImputed_allT2.xlsx\n",
      "Trying to load: TiMeS_matrix_mdImputed_allT1.xlsx\n"
     ]
    },
    {
     "name": "stdout",
     "output_type": "stream",
     "text": [
      "✅ Successfully loaded: TiMeS_matrix_mdImputed_allT1.xlsx\n"
     ]
    }
   ],
   "source": [
    "excel_folder_path = \"data/\"\n",
    "FM_folder_path = \"data/Raw_MissingDataImputed/\"\n",
    "regression_info, rsfMRI_full_info = functions.load_excel_data(excel_folder_path, FM_folder_path)\n",
    "folder_path = \"FC_matrices_times_wp11/\"\n",
    "\n",
    "rois = [363, 364, 365, 368, 372, 373, 374, 377, 379, 361, 370, 362, 371, 12, 54, 56, 78, 96, 192, 234, 236, 258, 276, 8, 9, 51, 52, 53, 188, 189, 231, 232, 233]\n",
    "rois = [roi - 1 for roi in rois]\n",
    "rois_sub = rois\n",
    "rois_full = np.arange(0, 379)\n",
    "selected_rois = [362, 363, 364, 367, 371, 372, 373, 376]\n",
    "striatum_labels = [\n",
    "    'Caudate_ipsi', 'Putamen_ipsi', 'Caudate_contra', 'Putamen_contra', 'Pallidum_ipsi', 'Pallidum_contra', \n",
    "    'Accumbens_ipsi', 'Accumbens_contra'\n",
    "]\n",
    "\n",
    "striatum_labels = [\n",
    "    'Caudate_ipsi', 'Putamen_ipsi', 'Caudate_contra', 'Putamen_contra', 'Pallidum_ipsi', 'Pallidum_contra', \n",
    "    'Accumbens_ipsi', 'Accumbens_contra'\n",
    "]\n",
    "all_matrices, all_subjects, yeo_mat_all_rois, roi_mapping_yeo = functions.load_matrices(folder_path, rsfMRI_full_info, rois, request_type='all', plot=False)\n",
    "t1_t3_t4_matched = all_matrices.copy().dropna(subset=['T1_matrix', 'T3_matrix', 'T4_matrix'])\n",
    "\n",
    "roi_mapping = functions.load_roi_labels(\"data/HCP-MMP1_RegionsCorticesList_379.csv\")  # adapt path"
   ]
  },
  {
   "cell_type": "code",
   "execution_count": null,
   "id": "cd29c27e",
   "metadata": {},
   "outputs": [
    {
     "name": "stdout",
     "output_type": "stream",
     "text": [
      "8 left-lesioned subjects\n",
      "17 right-lesioned subjects\n"
     ]
    }
   ],
   "source": [
    "df_aligned, regression_info = functions.switch_contra_ipsi_df(\n",
    "    t1_t3_t4_matched, \n",
    "    regression_info, \n",
    "    tp=3, \n",
    "    rois=rois, \n",
    "    roi_mapping=roi_mapping\n",
    ")\n",
    "df_L, df_R = functions.split_by_lesion_side(t1_t3_t4_matched)\n",
    "print(f\"{len(df_L)} left-lesioned subjects\")\n",
    "print(f\"{len(df_R)} right-lesioned subjects\")\n",
    "df_aligned_L_T3 = functions.switch_contra_ipsi_df(\n",
    "    df_L, \n",
    "    regression_info, \n",
    "    tp=3, \n",
    "    rois=rois, \n",
    "    roi_mapping=roi_mapping\n",
    ")\n",
    "\n",
    "df_aligned_R_T3 = functions.switch_contra_ipsi_df(\n",
    "    df_R, \n",
    "    regression_info, \n",
    "    tp=3, \n",
    "    rois=rois, \n",
    "    roi_mapping=roi_mapping\n",
    ")\n",
    "\n",
    "df_aligned_L_T4 = functions.switch_contra_ipsi_df(\n",
    "    df_L, \n",
    "    regression_info, \n",
    "    tp=4, \n",
    "    rois=rois, \n",
    "    roi_mapping=roi_mapping\n",
    ")\n",
    "\n",
    "df_aligned_R_T4 = functions.switch_contra_ipsi_df(\n",
    "    df_R, \n",
    "    regression_info, \n",
    "    tp=4, \n",
    "    rois=rois, \n",
    "    roi_mapping=roi_mapping\n",
    ")"
   ]
  },
  {
   "cell_type": "code",
   "execution_count": null,
   "id": "28e5b519",
   "metadata": {},
   "outputs": [
    {
     "name": "stdout",
     "output_type": "stream",
     "text": [
      "Number of subjects with T1, T3, and T4 matrices, and without undefined stroke lesion side: 25\n",
      "Number of predictors:  33\n"
     ]
    }
   ],
   "source": [
    "print(f\"Number of subjects with T1, T3, and T4 matrices, and without undefined stroke lesion side: {len(df_aligned)}\")\n",
    "print(\"Number of predictors: \", len(rois-1)) # I drop Brainstem, as not defined as L or R"
   ]
  },
  {
   "cell_type": "code",
   "execution_count": null,
   "id": "d9ae072b",
   "metadata": {},
   "outputs": [],
   "source": [
    "def keep_selected_rows(mat, selected_rois):\n",
    "    if mat is None:\n",
    "        return None\n",
    "    return mat.loc[selected_rois, :]\n",
    "\n",
    "t1_t3_t4_matched_sel = df_aligned.copy()\n",
    "\n",
    "for col in ['T1_matrix', 'T3_matrix', 'T_matrix']:\n",
    "    if col in df_aligned.columns:\n",
    "        t1_t3_t4_matched_sel[col] = df_aligned[col].apply(lambda mat: keep_selected_rows(mat, striatum_labels))\n",
    "\n",
    "selected_col = 'T1_matrix'\n",
    "tp = 1\n",
    "\n",
    "# Step 4: Merge with motor scores\n",
    "regression_t = regression_info[\n",
    "    (regression_info[\"TimePoint\"] == f\"T{tp}\") &\n",
    "    (regression_info[\"Behavioral_assessment\"] == 1) &\n",
    "    (regression_info[\"MRI\"] == 1)\n",
    "].copy()\n",
    "\n",
    "valid_data = t1_t3_t4_matched_sel.merge(\n",
    "        regression_t[[\"subject_id\", \"nmf_motor\", \"Fugl_Meyer_contra\", \"Fugl_Meyer_ipsi\"]],\n",
    "        on=\"subject_id\"\n",
    "    )"
   ]
  },
  {
   "cell_type": "code",
   "execution_count": null,
   "id": "4a0ab2be",
   "metadata": {},
   "outputs": [
    {
     "name": "stdout",
     "output_type": "stream",
     "text": [
      "Number of subjects with T1, T3, and T4 matrices, and without undefined stroke lesion side: 25\n"
     ]
    }
   ],
   "source": [
    "print(f\"Number of subjects with T1, T3, and T4 matrices, and without undefined stroke lesion side: {len(valid_data)}\")"
   ]
  },
  {
   "cell_type": "code",
   "execution_count": null,
   "id": "d70f8db1",
   "metadata": {},
   "outputs": [],
   "source": [
    "X = np.array([fc.values.flatten() for fc in valid_data[selected_col]]) \n",
    "\n",
    "# Example matrix from one subject\n",
    "example_fc = valid_data[selected_col].iloc[0]  # shape (8, 33)\n",
    "\n",
    "# Extract row and column labels\n",
    "row_labels = example_fc.index.tolist()\n",
    "col_labels = example_fc.columns.tolist()\n",
    "\n",
    "# Create ROIxROI feature names\n",
    "feature_names = [f\"{row}|{col}\" for row in row_labels for col in col_labels]\n",
    "\n",
    "X_df = pd.DataFrame(X, columns=feature_names)  # No scaling\n",
    "X_df_clean = X_df.dropna(axis=1) # Shape: (n_subjects=25, 8×32 - diagonal values that are nan = 248)\n",
    "\n",
    "param_grid = {\n",
    "    \"rfe__n_features_to_select\": [5, 10, 17, 18, 19, 20, 21, 22, 23, 24, 30, 40, 80, 160, X_df_clean.shape[1]]\n",
    "}"
   ]
  },
  {
   "cell_type": "code",
   "execution_count": null,
   "id": "13043980",
   "metadata": {},
   "outputs": [
    {
     "name": "stdout",
     "output_type": "stream",
     "text": [
      "X_df_clean shape: (25, 248)\n",
      "Any NaNs?: False\n",
      "Max/Min/Std per feature:                                                     mean       std\n",
      "Caudate_ipsi|Putamen_ipsi                       0.206684  0.302451\n",
      "Caudate_ipsi|Pallidum_ipsi                      0.095186  0.169559\n",
      "Caudate_ipsi|Accumbens_ipsi                     0.014392  0.144203\n",
      "Caudate_ipsi|Cerebellu_ipsi                     0.152811  0.178173\n",
      "Caudate_ipsi|Thalamus_ipsi                      0.417588  0.301969\n",
      "...                                                  ...       ...\n",
      "Accumbens_contra|Primary_Motor_Cortex_contra   -0.031660  0.312794\n",
      "Accumbens_contra|Primary_Sensory_Cortex_contra -0.080445  0.277180\n",
      "Accumbens_contra|Area_1_contra                 -0.109857  0.309560\n",
      "Accumbens_contra|Area_2_contra                 -0.120452  0.286974\n",
      "Accumbens_contra|Area_3a_contra                -0.063959  0.270952\n",
      "\n",
      "[248 rows x 2 columns]\n"
     ]
    }
   ],
   "source": [
    "print(\"X_df_clean shape:\", X_df_clean.shape)\n",
    "print(\"Any NaNs?:\", X_df_clean.isnull().values.any())\n",
    "print(\"Max/Min/Std per feature:\", X_df_clean.describe().T[['mean', 'std']])"
   ]
  },
  {
   "cell_type": "markdown",
   "id": "64ef8a0f",
   "metadata": {},
   "source": [
    "NB: As there are 8 diagonal values, 8 columns will be full of empty data"
   ]
  },
  {
   "cell_type": "markdown",
   "id": "d377636c",
   "metadata": {},
   "source": [
    "## Ridge Regression"
   ]
  },
  {
   "cell_type": "markdown",
   "id": "ddff8a5c",
   "metadata": {},
   "source": [
    "### Modeling Rationale: RFE, Ridge Regression, and R² Scoring\n",
    "\n",
    "To predict motor behavior from functional connectivity (FC) features, we used a modeling pipeline combining **Recursive Feature Elimination (RFE)**, **Ridge Regression**, and **R² scoring**, selected based on the nature of our data and the goals of the analysis.\n",
    "\n",
    "#### Why RFE?\n",
    "**Recursive Feature Elimination (RFE)** is a wrapper-based feature selection method that iteratively removes the least informative features based on model performance. This is particularly important in neuroimaging datasets, where:\n",
    "\n",
    "- The number of features (e.g., FC links) often exceeds the number of subjects.\n",
    "- Many features are noisy or redundant.\n",
    "- We seek interpretability: RFE helps identify a **compact, informative subset** of brain connections most predictive of motor outcomes.\n",
    "\n",
    "#### Why Ridge Regression?\n",
    "We used **Ridge regression** (ℓ2-regularized linear regression) because:\n",
    "\n",
    "- It handles **high-dimensional data** well, where standard linear regression would overfit.\n",
    "- It is robust to **multicollinearity**, which is common in brain connectivity data (many FC features are correlated).\n",
    "- It regularizes coefficient estimates, improving model generalization without forcing sparsity (unlike Lasso).\n",
    "\n",
    "#### Why R² Scoring?\n",
    "We evaluated model performance using **R² (coefficient of determination)** because:\n",
    "\n",
    "- It quantifies how much variance in the motor outcome is explained by the model.\n",
    "- It is scale-invariant and interpretable: e.g., an R² of 0.6 means 60% of the variance is explained.\n",
    "- It is standard in regression analysis and particularly useful for comparing predictive performance across models and feature sets.\n",
    "\n",
    "---\n",
    "\n",
    "Together, this pipeline provides a statistically sound, interpretable, and generalizable approach for linking FC features to behavioral outcomes.\n"
   ]
  },
  {
   "cell_type": "markdown",
   "id": "c2d5e4cf",
   "metadata": {},
   "source": [
    "### Fuegl-Meyer Ipsi"
   ]
  },
  {
   "cell_type": "code",
   "execution_count": null,
   "id": "905552a9",
   "metadata": {},
   "outputs": [
    {
     "name": "stdout",
     "output_type": "stream",
     "text": [
      "256\n",
      "248\n"
     ]
    }
   ],
   "source": [
    "y = valid_data['Fugl_Meyer_ipsi'].values"
   ]
  },
  {
   "cell_type": "code",
   "execution_count": null,
   "id": "867afc4d",
   "metadata": {},
   "outputs": [
    {
     "data": {
      "image/png": "[encoded data removed]",
      "text/plain": [
       "<Figure size 640x480 with 1 Axes>"
      ]
     },
     "metadata": {},
     "output_type": "display_data"
    },
    {
     "data": {
      "image/png": "[encoded data removed]",
      "text/plain": [
       "<Figure size 640x480 with 1 Axes>"
      ]
     },
     "metadata": {},
     "output_type": "display_data"
    }
   ],
   "source": [
    "import seaborn as sns\n",
    "import numpy as np\n",
    "sns.histplot(y, kde=True)\n",
    "plt.title(\"Distribution of y\")\n",
    "plt.show()\n",
    "\n",
    "# Log-log plot of y vs y_pred\n",
    "import matplotlib.pyplot as plt\n",
    "\n",
    "# Avoid log(0) by adding a small constant (or use log1p if values are >= 0)\n",
    "y_log = np.log1p(y)\n",
    "y_pred_log = np.log1p(y_pred)\n",
    "\n",
    "plt.scatter(y_log, y_pred_log)\n",
    "plt.xlabel(\"log(y + 1)\")\n",
    "plt.ylabel(\"log(y_pred + 1)\")\n",
    "plt.title(\"Log-Log Plot: True vs Predicted\")\n",
    "plt.plot([y_log.min(), y_log.max()], [y_log.min(), y_log.max()], 'r--', label='Identity')\n",
    "plt.legend()\n",
    "plt.show()"
   ]
  },
  {
   "cell_type": "markdown",
   "id": "1af00ecf",
   "metadata": {},
   "source": [
    "NB: Here, low sample (25) with high predictors (256), and y is skewed ! But not a Power law"
   ]
  },
  {
   "cell_type": "code",
   "execution_count": null,
   "id": "e1236505",
   "metadata": {},
   "outputs": [
    {
     "name": "stderr",
     "output_type": "stream",
     "text": [
      "/Users/maylismuller/opt/anaconda3/envs/ada/lib/python3.11/site-packages/sklearn/feature_selection/_rfe.py:291: UserWarning: Found n_features_to_select=256 > n_features=248. There will be no feature selection and all features will be kept.\n",
      "  warnings.warn(\n",
      "/Users/maylismuller/opt/anaconda3/envs/ada/lib/python3.11/site-packages/sklearn/feature_selection/_rfe.py:291: UserWarning: Found n_features_to_select=256 > n_features=248. There will be no feature selection and all features will be kept.\n",
      "  warnings.warn(\n",
      "/Users/maylismuller/opt/anaconda3/envs/ada/lib/python3.11/site-packages/sklearn/feature_selection/_rfe.py:291: UserWarning: Found n_features_to_select=256 > n_features=248. There will be no feature selection and all features will be kept.\n",
      "  warnings.warn(\n",
      "/Users/maylismuller/opt/anaconda3/envs/ada/lib/python3.11/site-packages/sklearn/feature_selection/_rfe.py:291: UserWarning: Found n_features_to_select=256 > n_features=248. There will be no feature selection and all features will be kept.\n",
      "  warnings.warn(\n",
      "/Users/maylismuller/opt/anaconda3/envs/ada/lib/python3.11/site-packages/sklearn/feature_selection/_rfe.py:291: UserWarning: Found n_features_to_select=256 > n_features=248. There will be no feature selection and all features will be kept.\n",
      "  warnings.warn(\n",
      "/Users/maylismuller/opt/anaconda3/envs/ada/lib/python3.11/site-packages/sklearn/feature_selection/_rfe.py:291: UserWarning: Found n_features_to_select=256 > n_features=248. There will be no feature selection and all features will be kept.\n",
      "  warnings.warn(\n",
      "/Users/maylismuller/opt/anaconda3/envs/ada/lib/python3.11/site-packages/sklearn/feature_selection/_rfe.py:291: UserWarning: Found n_features_to_select=256 > n_features=248. There will be no feature selection and all features will be kept.\n",
      "  warnings.warn(\n",
      "/Users/maylismuller/opt/anaconda3/envs/ada/lib/python3.11/site-packages/sklearn/feature_selection/_rfe.py:291: UserWarning: Found n_features_to_select=256 > n_features=248. There will be no feature selection and all features will be kept.\n",
      "  warnings.warn(\n",
      "/Users/maylismuller/opt/anaconda3/envs/ada/lib/python3.11/site-packages/sklearn/feature_selection/_rfe.py:291: UserWarning: Found n_features_to_select=256 > n_features=248. There will be no feature selection and all features will be kept.\n",
      "  warnings.warn(\n",
      "/Users/maylismuller/opt/anaconda3/envs/ada/lib/python3.11/site-packages/sklearn/feature_selection/_rfe.py:291: UserWarning: Found n_features_to_select=256 > n_features=248. There will be no feature selection and all features will be kept.\n",
      "  warnings.warn(\n",
      "/Users/maylismuller/opt/anaconda3/envs/ada/lib/python3.11/site-packages/sklearn/feature_selection/_rfe.py:291: UserWarning: Found n_features_to_select=256 > n_features=248. There will be no feature selection and all features will be kept.\n",
      "  warnings.warn(\n",
      "/Users/maylismuller/opt/anaconda3/envs/ada/lib/python3.11/site-packages/sklearn/feature_selection/_rfe.py:291: UserWarning: Found n_features_to_select=256 > n_features=248. There will be no feature selection and all features will be kept.\n",
      "  warnings.warn(\n",
      "/Users/maylismuller/opt/anaconda3/envs/ada/lib/python3.11/site-packages/sklearn/feature_selection/_rfe.py:291: UserWarning: Found n_features_to_select=256 > n_features=248. There will be no feature selection and all features will be kept.\n",
      "  warnings.warn(\n",
      "/Users/maylismuller/opt/anaconda3/envs/ada/lib/python3.11/site-packages/sklearn/feature_selection/_rfe.py:291: UserWarning: Found n_features_to_select=256 > n_features=248. There will be no feature selection and all features will be kept.\n",
      "  warnings.warn(\n",
      "/Users/maylismuller/opt/anaconda3/envs/ada/lib/python3.11/site-packages/sklearn/feature_selection/_rfe.py:291: UserWarning: Found n_features_to_select=256 > n_features=248. There will be no feature selection and all features will be kept.\n",
      "  warnings.warn(\n",
      "/Users/maylismuller/opt/anaconda3/envs/ada/lib/python3.11/site-packages/sklearn/feature_selection/_rfe.py:291: UserWarning: Found n_features_to_select=256 > n_features=248. There will be no feature selection and all features will be kept.\n",
      "  warnings.warn(\n",
      "/Users/maylismuller/opt/anaconda3/envs/ada/lib/python3.11/site-packages/sklearn/feature_selection/_rfe.py:291: UserWarning: Found n_features_to_select=256 > n_features=248. There will be no feature selection and all features will be kept.\n",
      "  warnings.warn(\n",
      "/Users/maylismuller/opt/anaconda3/envs/ada/lib/python3.11/site-packages/sklearn/feature_selection/_rfe.py:291: UserWarning: Found n_features_to_select=256 > n_features=248. There will be no feature selection and all features will be kept.\n",
      "  warnings.warn(\n",
      "/Users/maylismuller/opt/anaconda3/envs/ada/lib/python3.11/site-packages/sklearn/feature_selection/_rfe.py:291: UserWarning: Found n_features_to_select=256 > n_features=248. There will be no feature selection and all features will be kept.\n",
      "  warnings.warn(\n",
      "/Users/maylismuller/opt/anaconda3/envs/ada/lib/python3.11/site-packages/sklearn/feature_selection/_rfe.py:291: UserWarning: Found n_features_to_select=256 > n_features=248. There will be no feature selection and all features will be kept.\n",
      "  warnings.warn(\n",
      "/Users/maylismuller/opt/anaconda3/envs/ada/lib/python3.11/site-packages/sklearn/feature_selection/_rfe.py:291: UserWarning: Found n_features_to_select=256 > n_features=248. There will be no feature selection and all features will be kept.\n",
      "  warnings.warn(\n",
      "/Users/maylismuller/opt/anaconda3/envs/ada/lib/python3.11/site-packages/sklearn/feature_selection/_rfe.py:291: UserWarning: Found n_features_to_select=256 > n_features=248. There will be no feature selection and all features will be kept.\n",
      "  warnings.warn(\n",
      "/Users/maylismuller/opt/anaconda3/envs/ada/lib/python3.11/site-packages/sklearn/feature_selection/_rfe.py:291: UserWarning: Found n_features_to_select=256 > n_features=248. There will be no feature selection and all features will be kept.\n",
      "  warnings.warn(\n",
      "/Users/maylismuller/opt/anaconda3/envs/ada/lib/python3.11/site-packages/sklearn/feature_selection/_rfe.py:291: UserWarning: Found n_features_to_select=256 > n_features=248. There will be no feature selection and all features will be kept.\n",
      "  warnings.warn(\n",
      "/Users/maylismuller/opt/anaconda3/envs/ada/lib/python3.11/site-packages/sklearn/feature_selection/_rfe.py:291: UserWarning: Found n_features_to_select=256 > n_features=248. There will be no feature selection and all features will be kept.\n",
      "  warnings.warn(\n",
      "/Users/maylismuller/opt/anaconda3/envs/ada/lib/python3.11/site-packages/sklearn/feature_selection/_rfe.py:291: UserWarning: Found n_features_to_select=256 > n_features=248. There will be no feature selection and all features will be kept.\n",
      "  warnings.warn(\n",
      "/Users/maylismuller/opt/anaconda3/envs/ada/lib/python3.11/site-packages/sklearn/feature_selection/_rfe.py:291: UserWarning: Found n_features_to_select=256 > n_features=248. There will be no feature selection and all features will be kept.\n",
      "  warnings.warn(\n",
      "/Users/maylismuller/opt/anaconda3/envs/ada/lib/python3.11/site-packages/sklearn/feature_selection/_rfe.py:291: UserWarning: Found n_features_to_select=256 > n_features=248. There will be no feature selection and all features will be kept.\n",
      "  warnings.warn(\n",
      "/Users/maylismuller/opt/anaconda3/envs/ada/lib/python3.11/site-packages/sklearn/feature_selection/_rfe.py:291: UserWarning: Found n_features_to_select=256 > n_features=248. There will be no feature selection and all features will be kept.\n",
      "  warnings.warn(\n",
      "/Users/maylismuller/opt/anaconda3/envs/ada/lib/python3.11/site-packages/sklearn/feature_selection/_rfe.py:291: UserWarning: Found n_features_to_select=256 > n_features=248. There will be no feature selection and all features will be kept.\n",
      "  warnings.warn(\n",
      "/Users/maylismuller/opt/anaconda3/envs/ada/lib/python3.11/site-packages/sklearn/feature_selection/_rfe.py:291: UserWarning: Found n_features_to_select=256 > n_features=248. There will be no feature selection and all features will be kept.\n",
      "  warnings.warn(\n",
      "/Users/maylismuller/opt/anaconda3/envs/ada/lib/python3.11/site-packages/sklearn/feature_selection/_rfe.py:291: UserWarning: Found n_features_to_select=256 > n_features=248. There will be no feature selection and all features will be kept.\n",
      "  warnings.warn(\n",
      "/Users/maylismuller/opt/anaconda3/envs/ada/lib/python3.11/site-packages/sklearn/feature_selection/_rfe.py:291: UserWarning: Found n_features_to_select=256 > n_features=248. There will be no feature selection and all features will be kept.\n",
      "  warnings.warn(\n",
      "/Users/maylismuller/opt/anaconda3/envs/ada/lib/python3.11/site-packages/sklearn/feature_selection/_rfe.py:291: UserWarning: Found n_features_to_select=256 > n_features=248. There will be no feature selection and all features will be kept.\n",
      "  warnings.warn(\n",
      "/Users/maylismuller/opt/anaconda3/envs/ada/lib/python3.11/site-packages/sklearn/feature_selection/_rfe.py:291: UserWarning: Found n_features_to_select=256 > n_features=248. There will be no feature selection and all features will be kept.\n",
      "  warnings.warn(\n",
      "/Users/maylismuller/opt/anaconda3/envs/ada/lib/python3.11/site-packages/sklearn/feature_selection/_rfe.py:291: UserWarning: Found n_features_to_select=256 > n_features=248. There will be no feature selection and all features will be kept.\n",
      "  warnings.warn(\n",
      "/Users/maylismuller/opt/anaconda3/envs/ada/lib/python3.11/site-packages/sklearn/feature_selection/_rfe.py:291: UserWarning: Found n_features_to_select=256 > n_features=248. There will be no feature selection and all features will be kept.\n",
      "  warnings.warn(\n",
      "/Users/maylismuller/opt/anaconda3/envs/ada/lib/python3.11/site-packages/sklearn/feature_selection/_rfe.py:291: UserWarning: Found n_features_to_select=256 > n_features=248. There will be no feature selection and all features will be kept.\n",
      "  warnings.warn(\n",
      "/Users/maylismuller/opt/anaconda3/envs/ada/lib/python3.11/site-packages/sklearn/feature_selection/_rfe.py:291: UserWarning: Found n_features_to_select=256 > n_features=248. There will be no feature selection and all features will be kept.\n",
      "  warnings.warn(\n",
      "/Users/maylismuller/opt/anaconda3/envs/ada/lib/python3.11/site-packages/sklearn/feature_selection/_rfe.py:291: UserWarning: Found n_features_to_select=256 > n_features=248. There will be no feature selection and all features will be kept.\n",
      "  warnings.warn(\n",
      "/Users/maylismuller/opt/anaconda3/envs/ada/lib/python3.11/site-packages/sklearn/feature_selection/_rfe.py:291: UserWarning: Found n_features_to_select=256 > n_features=248. There will be no feature selection and all features will be kept.\n",
      "  warnings.warn(\n",
      "/Users/maylismuller/opt/anaconda3/envs/ada/lib/python3.11/site-packages/sklearn/feature_selection/_rfe.py:291: UserWarning: Found n_features_to_select=256 > n_features=248. There will be no feature selection and all features will be kept.\n",
      "  warnings.warn(\n",
      "/Users/maylismuller/opt/anaconda3/envs/ada/lib/python3.11/site-packages/sklearn/feature_selection/_rfe.py:291: UserWarning: Found n_features_to_select=256 > n_features=248. There will be no feature selection and all features will be kept.\n",
      "  warnings.warn(\n",
      "/Users/maylismuller/opt/anaconda3/envs/ada/lib/python3.11/site-packages/sklearn/feature_selection/_rfe.py:291: UserWarning: Found n_features_to_select=256 > n_features=248. There will be no feature selection and all features will be kept.\n",
      "  warnings.warn(\n",
      "/Users/maylismuller/opt/anaconda3/envs/ada/lib/python3.11/site-packages/sklearn/feature_selection/_rfe.py:291: UserWarning: Found n_features_to_select=256 > n_features=248. There will be no feature selection and all features will be kept.\n",
      "  warnings.warn(\n",
      "/Users/maylismuller/opt/anaconda3/envs/ada/lib/python3.11/site-packages/sklearn/feature_selection/_rfe.py:291: UserWarning: Found n_features_to_select=256 > n_features=248. There will be no feature selection and all features will be kept.\n",
      "  warnings.warn(\n",
      "/Users/maylismuller/opt/anaconda3/envs/ada/lib/python3.11/site-packages/sklearn/feature_selection/_rfe.py:291: UserWarning: Found n_features_to_select=256 > n_features=248. There will be no feature selection and all features will be kept.\n",
      "  warnings.warn(\n",
      "/Users/maylismuller/opt/anaconda3/envs/ada/lib/python3.11/site-packages/sklearn/feature_selection/_rfe.py:291: UserWarning: Found n_features_to_select=256 > n_features=248. There will be no feature selection and all features will be kept.\n",
      "  warnings.warn(\n",
      "/Users/maylismuller/opt/anaconda3/envs/ada/lib/python3.11/site-packages/sklearn/feature_selection/_rfe.py:291: UserWarning: Found n_features_to_select=256 > n_features=248. There will be no feature selection and all features will be kept.\n",
      "  warnings.warn(\n",
      "/Users/maylismuller/opt/anaconda3/envs/ada/lib/python3.11/site-packages/sklearn/feature_selection/_rfe.py:291: UserWarning: Found n_features_to_select=256 > n_features=248. There will be no feature selection and all features will be kept.\n",
      "  warnings.warn(\n"
     ]
    },
    {
     "name": "stdout",
     "output_type": "stream",
     "text": [
      "Best number of features: 22\n",
      "Best cross-validated R² score: -3.089460958470701\n",
      "Selected feature names: ['Caudate_ipsi|Cerebellu_ipsi', 'Caudate_ipsi|Area_6_anterior_contra', 'Caudate_ipsi|Area_1_contra', 'Caudate_ipsi|Area_2_contra', 'Putamen_ipsi|Cerebellu_ipsi', 'Putamen_ipsi|Rostral_Area_6_ipsi', 'Putamen_ipsi|Thalamus_contra', 'Caudate_contra|Putamen_ipsi', 'Caudate_contra|Cerebellu_ipsi', 'Caudate_contra|Area_55b_ipsi', 'Caudate_contra|Area_6_anterior_contra', 'Caudate_contra|Area_1_contra', 'Caudate_contra|Area_3a_contra', 'Pallidum_ipsi|Pallidum_contra', 'Pallidum_ipsi|Primary_Motor_Cortex_contra', 'Pallidum_ipsi|Area_1_contra', 'Pallidum_ipsi|Area_2_contra', 'Pallidum_ipsi|Area_3a_contra', 'Pallidum_contra|Dorsal_area_6_ipsi', 'Pallidum_contra|Rostral_Area_6_ipsi', 'Accumbens_ipsi|Cerebellu_contra', 'Accumbens_contra|Area_2_contra']\n",
      "Top predictive features:\n",
      "                                  Feature    Weight\n",
      "8           Caudate_contra|Cerebellu_ipsi -0.395529\n",
      "12          Caudate_contra|Area_3a_contra -0.377755\n",
      "13          Pallidum_ipsi|Pallidum_contra -0.297753\n",
      "10  Caudate_contra|Area_6_anterior_contra  0.296191\n",
      "6            Putamen_ipsi|Thalamus_contra  0.290914\n",
      "1     Caudate_ipsi|Area_6_anterior_contra  0.280625\n",
      "19    Pallidum_contra|Rostral_Area_6_ipsi -0.279131\n",
      "5        Putamen_ipsi|Rostral_Area_6_ipsi -0.275475\n",
      "21         Accumbens_contra|Area_2_contra  0.257924\n",
      "7             Caudate_contra|Putamen_ipsi  0.247685\n"
     ]
    }
   ],
   "source": [
    "selected_feature_names, grid = functions.run_Ridge_with_RFE(X_df_clean, y, param_grid)"
   ]
  },
  {
   "cell_type": "code",
   "execution_count": null,
   "id": "344701e2",
   "metadata": {},
   "outputs": [
    {
     "name": "stdout",
     "output_type": "stream",
     "text": [
      "R² on full data: 0.998\n",
      "Mean Squared Error: 0.008\n",
      "Mean Absolute Error: 0.073\n"
     ]
    },
    {
     "data": {
      "image/png": "[encoded data removed]",
      "text/plain": [
       "<Figure size 600x600 with 1 Axes>"
      ]
     },
     "metadata": {},
     "output_type": "display_data"
    }
   ],
   "source": [
    "from sklearn.metrics import mean_squared_error, mean_absolute_error, r2_score\n",
    "import matplotlib.pyplot as plt\n",
    "\n",
    "# Step 1: Predict with the best model on all data\n",
    "y_pred = grid.best_estimator_.predict(X_df_clean)\n",
    "\n",
    "# Step 2: Evaluate performance\n",
    "r2 = r2_score(y, y_pred)\n",
    "mse = mean_squared_error(y, y_pred)\n",
    "mae = mean_absolute_error(y, y_pred)\n",
    "\n",
    "print(f\"R² on full data: {r2:.3f}\")\n",
    "print(f\"Mean Squared Error: {mse:.3f}\")\n",
    "print(f\"Mean Absolute Error: {mae:.3f}\")\n",
    "\n",
    "plt.figure(figsize=(6, 6))\n",
    "plt.scatter(y, y_pred, edgecolor='k')\n",
    "plt.plot([y.min(), y.max()], [y.min(), y.max()], 'r--', lw=2)\n",
    "plt.xlabel(\"True motor scores\")\n",
    "plt.ylabel(\"Predicted motor scores\")\n",
    "plt.title(\"True vs. Predicted\")\n",
    "plt.grid(True)\n",
    "plt.tight_layout()\n",
    "plt.show()\n"
   ]
  },
  {
   "cell_type": "markdown",
   "id": "41d5a6c3",
   "metadata": {},
   "source": [
    "SEVERE OVERFITTING"
   ]
  },
  {
   "cell_type": "markdown",
   "id": "9639dd66",
   "metadata": {},
   "source": [
    "### Fugl-Meyer Contra"
   ]
  },
  {
   "cell_type": "code",
   "execution_count": null,
   "id": "88488759",
   "metadata": {},
   "outputs": [
    {
     "name": "stderr",
     "output_type": "stream",
     "text": [
      "/Users/maylismuller/opt/anaconda3/envs/ada/lib/python3.11/site-packages/sklearn/feature_selection/_rfe.py:291: UserWarning: Found n_features_to_select=256 > n_features=248. There will be no feature selection and all features will be kept.\n",
      "  warnings.warn(\n",
      "/Users/maylismuller/opt/anaconda3/envs/ada/lib/python3.11/site-packages/sklearn/feature_selection/_rfe.py:291: UserWarning: Found n_features_to_select=256 > n_features=248. There will be no feature selection and all features will be kept.\n",
      "  warnings.warn(\n",
      "/Users/maylismuller/opt/anaconda3/envs/ada/lib/python3.11/site-packages/sklearn/feature_selection/_rfe.py:291: UserWarning: Found n_features_to_select=256 > n_features=248. There will be no feature selection and all features will be kept.\n",
      "  warnings.warn(\n",
      "/Users/maylismuller/opt/anaconda3/envs/ada/lib/python3.11/site-packages/sklearn/feature_selection/_rfe.py:291: UserWarning: Found n_features_to_select=256 > n_features=248. There will be no feature selection and all features will be kept.\n",
      "  warnings.warn(\n",
      "/Users/maylismuller/opt/anaconda3/envs/ada/lib/python3.11/site-packages/sklearn/feature_selection/_rfe.py:291: UserWarning: Found n_features_to_select=256 > n_features=248. There will be no feature selection and all features will be kept.\n",
      "  warnings.warn(\n",
      "/Users/maylismuller/opt/anaconda3/envs/ada/lib/python3.11/site-packages/sklearn/feature_selection/_rfe.py:291: UserWarning: Found n_features_to_select=256 > n_features=248. There will be no feature selection and all features will be kept.\n",
      "  warnings.warn(\n",
      "/Users/maylismuller/opt/anaconda3/envs/ada/lib/python3.11/site-packages/sklearn/feature_selection/_rfe.py:291: UserWarning: Found n_features_to_select=256 > n_features=248. There will be no feature selection and all features will be kept.\n",
      "  warnings.warn(\n",
      "/Users/maylismuller/opt/anaconda3/envs/ada/lib/python3.11/site-packages/sklearn/feature_selection/_rfe.py:291: UserWarning: Found n_features_to_select=256 > n_features=248. There will be no feature selection and all features will be kept.\n",
      "  warnings.warn(\n",
      "/Users/maylismuller/opt/anaconda3/envs/ada/lib/python3.11/site-packages/sklearn/feature_selection/_rfe.py:291: UserWarning: Found n_features_to_select=256 > n_features=248. There will be no feature selection and all features will be kept.\n",
      "  warnings.warn(\n",
      "/Users/maylismuller/opt/anaconda3/envs/ada/lib/python3.11/site-packages/sklearn/feature_selection/_rfe.py:291: UserWarning: Found n_features_to_select=256 > n_features=248. There will be no feature selection and all features will be kept.\n",
      "  warnings.warn(\n",
      "/Users/maylismuller/opt/anaconda3/envs/ada/lib/python3.11/site-packages/sklearn/feature_selection/_rfe.py:291: UserWarning: Found n_features_to_select=256 > n_features=248. There will be no feature selection and all features will be kept.\n",
      "  warnings.warn(\n",
      "/Users/maylismuller/opt/anaconda3/envs/ada/lib/python3.11/site-packages/sklearn/feature_selection/_rfe.py:291: UserWarning: Found n_features_to_select=256 > n_features=248. There will be no feature selection and all features will be kept.\n",
      "  warnings.warn(\n",
      "/Users/maylismuller/opt/anaconda3/envs/ada/lib/python3.11/site-packages/sklearn/feature_selection/_rfe.py:291: UserWarning: Found n_features_to_select=256 > n_features=248. There will be no feature selection and all features will be kept.\n",
      "  warnings.warn(\n",
      "/Users/maylismuller/opt/anaconda3/envs/ada/lib/python3.11/site-packages/sklearn/feature_selection/_rfe.py:291: UserWarning: Found n_features_to_select=256 > n_features=248. There will be no feature selection and all features will be kept.\n",
      "  warnings.warn(\n",
      "/Users/maylismuller/opt/anaconda3/envs/ada/lib/python3.11/site-packages/sklearn/feature_selection/_rfe.py:291: UserWarning: Found n_features_to_select=256 > n_features=248. There will be no feature selection and all features will be kept.\n",
      "  warnings.warn(\n",
      "/Users/maylismuller/opt/anaconda3/envs/ada/lib/python3.11/site-packages/sklearn/feature_selection/_rfe.py:291: UserWarning: Found n_features_to_select=256 > n_features=248. There will be no feature selection and all features will be kept.\n",
      "  warnings.warn(\n",
      "/Users/maylismuller/opt/anaconda3/envs/ada/lib/python3.11/site-packages/sklearn/feature_selection/_rfe.py:291: UserWarning: Found n_features_to_select=256 > n_features=248. There will be no feature selection and all features will be kept.\n",
      "  warnings.warn(\n",
      "/Users/maylismuller/opt/anaconda3/envs/ada/lib/python3.11/site-packages/sklearn/feature_selection/_rfe.py:291: UserWarning: Found n_features_to_select=256 > n_features=248. There will be no feature selection and all features will be kept.\n",
      "  warnings.warn(\n",
      "/Users/maylismuller/opt/anaconda3/envs/ada/lib/python3.11/site-packages/sklearn/feature_selection/_rfe.py:291: UserWarning: Found n_features_to_select=256 > n_features=248. There will be no feature selection and all features will be kept.\n",
      "  warnings.warn(\n",
      "/Users/maylismuller/opt/anaconda3/envs/ada/lib/python3.11/site-packages/sklearn/feature_selection/_rfe.py:291: UserWarning: Found n_features_to_select=256 > n_features=248. There will be no feature selection and all features will be kept.\n",
      "  warnings.warn(\n",
      "/Users/maylismuller/opt/anaconda3/envs/ada/lib/python3.11/site-packages/sklearn/feature_selection/_rfe.py:291: UserWarning: Found n_features_to_select=256 > n_features=248. There will be no feature selection and all features will be kept.\n",
      "  warnings.warn(\n",
      "/Users/maylismuller/opt/anaconda3/envs/ada/lib/python3.11/site-packages/sklearn/feature_selection/_rfe.py:291: UserWarning: Found n_features_to_select=256 > n_features=248. There will be no feature selection and all features will be kept.\n",
      "  warnings.warn(\n",
      "/Users/maylismuller/opt/anaconda3/envs/ada/lib/python3.11/site-packages/sklearn/feature_selection/_rfe.py:291: UserWarning: Found n_features_to_select=256 > n_features=248. There will be no feature selection and all features will be kept.\n",
      "  warnings.warn(\n",
      "/Users/maylismuller/opt/anaconda3/envs/ada/lib/python3.11/site-packages/sklearn/feature_selection/_rfe.py:291: UserWarning: Found n_features_to_select=256 > n_features=248. There will be no feature selection and all features will be kept.\n",
      "  warnings.warn(\n",
      "/Users/maylismuller/opt/anaconda3/envs/ada/lib/python3.11/site-packages/sklearn/feature_selection/_rfe.py:291: UserWarning: Found n_features_to_select=256 > n_features=248. There will be no feature selection and all features will be kept.\n",
      "  warnings.warn(\n",
      "/Users/maylismuller/opt/anaconda3/envs/ada/lib/python3.11/site-packages/sklearn/feature_selection/_rfe.py:291: UserWarning: Found n_features_to_select=256 > n_features=248. There will be no feature selection and all features will be kept.\n",
      "  warnings.warn(\n",
      "/Users/maylismuller/opt/anaconda3/envs/ada/lib/python3.11/site-packages/sklearn/feature_selection/_rfe.py:291: UserWarning: Found n_features_to_select=256 > n_features=248. There will be no feature selection and all features will be kept.\n",
      "  warnings.warn(\n",
      "/Users/maylismuller/opt/anaconda3/envs/ada/lib/python3.11/site-packages/sklearn/feature_selection/_rfe.py:291: UserWarning: Found n_features_to_select=256 > n_features=248. There will be no feature selection and all features will be kept.\n",
      "  warnings.warn(\n",
      "/Users/maylismuller/opt/anaconda3/envs/ada/lib/python3.11/site-packages/sklearn/feature_selection/_rfe.py:291: UserWarning: Found n_features_to_select=256 > n_features=248. There will be no feature selection and all features will be kept.\n",
      "  warnings.warn(\n",
      "/Users/maylismuller/opt/anaconda3/envs/ada/lib/python3.11/site-packages/sklearn/feature_selection/_rfe.py:291: UserWarning: Found n_features_to_select=256 > n_features=248. There will be no feature selection and all features will be kept.\n",
      "  warnings.warn(\n",
      "/Users/maylismuller/opt/anaconda3/envs/ada/lib/python3.11/site-packages/sklearn/feature_selection/_rfe.py:291: UserWarning: Found n_features_to_select=256 > n_features=248. There will be no feature selection and all features will be kept.\n",
      "  warnings.warn(\n",
      "/Users/maylismuller/opt/anaconda3/envs/ada/lib/python3.11/site-packages/sklearn/feature_selection/_rfe.py:291: UserWarning: Found n_features_to_select=256 > n_features=248. There will be no feature selection and all features will be kept.\n",
      "  warnings.warn(\n",
      "/Users/maylismuller/opt/anaconda3/envs/ada/lib/python3.11/site-packages/sklearn/feature_selection/_rfe.py:291: UserWarning: Found n_features_to_select=256 > n_features=248. There will be no feature selection and all features will be kept.\n",
      "  warnings.warn(\n",
      "/Users/maylismuller/opt/anaconda3/envs/ada/lib/python3.11/site-packages/sklearn/feature_selection/_rfe.py:291: UserWarning: Found n_features_to_select=256 > n_features=248. There will be no feature selection and all features will be kept.\n",
      "  warnings.warn(\n",
      "/Users/maylismuller/opt/anaconda3/envs/ada/lib/python3.11/site-packages/sklearn/feature_selection/_rfe.py:291: UserWarning: Found n_features_to_select=256 > n_features=248. There will be no feature selection and all features will be kept.\n",
      "  warnings.warn(\n",
      "/Users/maylismuller/opt/anaconda3/envs/ada/lib/python3.11/site-packages/sklearn/feature_selection/_rfe.py:291: UserWarning: Found n_features_to_select=256 > n_features=248. There will be no feature selection and all features will be kept.\n",
      "  warnings.warn(\n",
      "/Users/maylismuller/opt/anaconda3/envs/ada/lib/python3.11/site-packages/sklearn/feature_selection/_rfe.py:291: UserWarning: Found n_features_to_select=256 > n_features=248. There will be no feature selection and all features will be kept.\n",
      "  warnings.warn(\n",
      "/Users/maylismuller/opt/anaconda3/envs/ada/lib/python3.11/site-packages/sklearn/feature_selection/_rfe.py:291: UserWarning: Found n_features_to_select=256 > n_features=248. There will be no feature selection and all features will be kept.\n",
      "  warnings.warn(\n",
      "/Users/maylismuller/opt/anaconda3/envs/ada/lib/python3.11/site-packages/sklearn/feature_selection/_rfe.py:291: UserWarning: Found n_features_to_select=256 > n_features=248. There will be no feature selection and all features will be kept.\n",
      "  warnings.warn(\n",
      "/Users/maylismuller/opt/anaconda3/envs/ada/lib/python3.11/site-packages/sklearn/feature_selection/_rfe.py:291: UserWarning: Found n_features_to_select=256 > n_features=248. There will be no feature selection and all features will be kept.\n",
      "  warnings.warn(\n",
      "/Users/maylismuller/opt/anaconda3/envs/ada/lib/python3.11/site-packages/sklearn/feature_selection/_rfe.py:291: UserWarning: Found n_features_to_select=256 > n_features=248. There will be no feature selection and all features will be kept.\n",
      "  warnings.warn(\n",
      "/Users/maylismuller/opt/anaconda3/envs/ada/lib/python3.11/site-packages/sklearn/feature_selection/_rfe.py:291: UserWarning: Found n_features_to_select=256 > n_features=248. There will be no feature selection and all features will be kept.\n",
      "  warnings.warn(\n",
      "/Users/maylismuller/opt/anaconda3/envs/ada/lib/python3.11/site-packages/sklearn/feature_selection/_rfe.py:291: UserWarning: Found n_features_to_select=256 > n_features=248. There will be no feature selection and all features will be kept.\n",
      "  warnings.warn(\n",
      "/Users/maylismuller/opt/anaconda3/envs/ada/lib/python3.11/site-packages/sklearn/feature_selection/_rfe.py:291: UserWarning: Found n_features_to_select=256 > n_features=248. There will be no feature selection and all features will be kept.\n",
      "  warnings.warn(\n",
      "/Users/maylismuller/opt/anaconda3/envs/ada/lib/python3.11/site-packages/sklearn/feature_selection/_rfe.py:291: UserWarning: Found n_features_to_select=256 > n_features=248. There will be no feature selection and all features will be kept.\n",
      "  warnings.warn(\n",
      "/Users/maylismuller/opt/anaconda3/envs/ada/lib/python3.11/site-packages/sklearn/feature_selection/_rfe.py:291: UserWarning: Found n_features_to_select=256 > n_features=248. There will be no feature selection and all features will be kept.\n",
      "  warnings.warn(\n",
      "/Users/maylismuller/opt/anaconda3/envs/ada/lib/python3.11/site-packages/sklearn/feature_selection/_rfe.py:291: UserWarning: Found n_features_to_select=256 > n_features=248. There will be no feature selection and all features will be kept.\n",
      "  warnings.warn(\n",
      "/Users/maylismuller/opt/anaconda3/envs/ada/lib/python3.11/site-packages/sklearn/feature_selection/_rfe.py:291: UserWarning: Found n_features_to_select=256 > n_features=248. There will be no feature selection and all features will be kept.\n",
      "  warnings.warn(\n",
      "/Users/maylismuller/opt/anaconda3/envs/ada/lib/python3.11/site-packages/sklearn/feature_selection/_rfe.py:291: UserWarning: Found n_features_to_select=256 > n_features=248. There will be no feature selection and all features will be kept.\n",
      "  warnings.warn(\n",
      "/Users/maylismuller/opt/anaconda3/envs/ada/lib/python3.11/site-packages/sklearn/feature_selection/_rfe.py:291: UserWarning: Found n_features_to_select=256 > n_features=248. There will be no feature selection and all features will be kept.\n",
      "  warnings.warn(\n",
      "/Users/maylismuller/opt/anaconda3/envs/ada/lib/python3.11/site-packages/sklearn/feature_selection/_rfe.py:291: UserWarning: Found n_features_to_select=256 > n_features=248. There will be no feature selection and all features will be kept.\n",
      "  warnings.warn(\n"
     ]
    },
    {
     "name": "stdout",
     "output_type": "stream",
     "text": [
      "Best number of features: 256\n",
      "Best cross-validated R² score: -50.863391733698336\n",
      "Selected feature names: ['Caudate_ipsi|Putamen_ipsi', 'Caudate_ipsi|Pallidum_ipsi', 'Caudate_ipsi|Accumbens_ipsi', 'Caudate_ipsi|Cerebellu_ipsi', 'Caudate_ipsi|Thalamus_ipsi', 'Caudate_ipsi|Area_55b_ipsi', 'Caudate_ipsi|Dorsal_area_6_ipsi', 'Caudate_ipsi|Ventral_Area_6_ipsi', 'Caudate_ipsi|Rostral_Area_6_ipsi', 'Caudate_ipsi|Area_6_anterior_ipsi', 'Caudate_ipsi|Primary_Motor_Cortex_ipsi', 'Caudate_ipsi|Primary_Sensory_Cortex_ipsi', 'Caudate_ipsi|Area_1_ipsi', 'Caudate_ipsi|Area_2_ipsi', 'Caudate_ipsi|Area_3a_ipsi', 'Caudate_ipsi|Caudate_contra', 'Caudate_ipsi|Putamen_contra', 'Caudate_ipsi|Pallidum_contra', 'Caudate_ipsi|Accumbens_contra', 'Caudate_ipsi|Cerebellu_contra', 'Caudate_ipsi|Thalamus_contra', 'Caudate_ipsi|Area_55b_contra', 'Caudate_ipsi|Dorsal_area_6_contra', 'Caudate_ipsi|Ventral_Area_6_contra', 'Caudate_ipsi|Rostral_Area_6_contra', 'Caudate_ipsi|Area_6_anterior_contra', 'Caudate_ipsi|Primary_Motor_Cortex_contra', 'Caudate_ipsi|Primary_Sensory_Cortex_contra', 'Caudate_ipsi|Area_1_contra', 'Caudate_ipsi|Area_2_contra', 'Caudate_ipsi|Area_3a_contra', 'Putamen_ipsi|Caudate_ipsi', 'Putamen_ipsi|Pallidum_ipsi', 'Putamen_ipsi|Accumbens_ipsi', 'Putamen_ipsi|Cerebellu_ipsi', 'Putamen_ipsi|Thalamus_ipsi', 'Putamen_ipsi|Area_55b_ipsi', 'Putamen_ipsi|Dorsal_area_6_ipsi', 'Putamen_ipsi|Ventral_Area_6_ipsi', 'Putamen_ipsi|Rostral_Area_6_ipsi', 'Putamen_ipsi|Area_6_anterior_ipsi', 'Putamen_ipsi|Primary_Motor_Cortex_ipsi', 'Putamen_ipsi|Primary_Sensory_Cortex_ipsi', 'Putamen_ipsi|Area_1_ipsi', 'Putamen_ipsi|Area_2_ipsi', 'Putamen_ipsi|Area_3a_ipsi', 'Putamen_ipsi|Caudate_contra', 'Putamen_ipsi|Putamen_contra', 'Putamen_ipsi|Pallidum_contra', 'Putamen_ipsi|Accumbens_contra', 'Putamen_ipsi|Cerebellu_contra', 'Putamen_ipsi|Thalamus_contra', 'Putamen_ipsi|Area_55b_contra', 'Putamen_ipsi|Dorsal_area_6_contra', 'Putamen_ipsi|Ventral_Area_6_contra', 'Putamen_ipsi|Rostral_Area_6_contra', 'Putamen_ipsi|Area_6_anterior_contra', 'Putamen_ipsi|Primary_Motor_Cortex_contra', 'Putamen_ipsi|Primary_Sensory_Cortex_contra', 'Putamen_ipsi|Area_1_contra', 'Putamen_ipsi|Area_2_contra', 'Putamen_ipsi|Area_3a_contra', 'Caudate_contra|Caudate_ipsi', 'Caudate_contra|Putamen_ipsi', 'Caudate_contra|Pallidum_ipsi', 'Caudate_contra|Accumbens_ipsi', 'Caudate_contra|Cerebellu_ipsi', 'Caudate_contra|Thalamus_ipsi', 'Caudate_contra|Area_55b_ipsi', 'Caudate_contra|Dorsal_area_6_ipsi', 'Caudate_contra|Ventral_Area_6_ipsi', 'Caudate_contra|Rostral_Area_6_ipsi', 'Caudate_contra|Area_6_anterior_ipsi', 'Caudate_contra|Primary_Motor_Cortex_ipsi', 'Caudate_contra|Primary_Sensory_Cortex_ipsi', 'Caudate_contra|Area_1_ipsi', 'Caudate_contra|Area_2_ipsi', 'Caudate_contra|Area_3a_ipsi', 'Caudate_contra|Putamen_contra', 'Caudate_contra|Pallidum_contra', 'Caudate_contra|Accumbens_contra', 'Caudate_contra|Cerebellu_contra', 'Caudate_contra|Thalamus_contra', 'Caudate_contra|Area_55b_contra', 'Caudate_contra|Dorsal_area_6_contra', 'Caudate_contra|Ventral_Area_6_contra', 'Caudate_contra|Rostral_Area_6_contra', 'Caudate_contra|Area_6_anterior_contra', 'Caudate_contra|Primary_Motor_Cortex_contra', 'Caudate_contra|Primary_Sensory_Cortex_contra', 'Caudate_contra|Area_1_contra', 'Caudate_contra|Area_2_contra', 'Caudate_contra|Area_3a_contra', 'Putamen_contra|Caudate_ipsi', 'Putamen_contra|Putamen_ipsi', 'Putamen_contra|Pallidum_ipsi', 'Putamen_contra|Accumbens_ipsi', 'Putamen_contra|Cerebellu_ipsi', 'Putamen_contra|Thalamus_ipsi', 'Putamen_contra|Area_55b_ipsi', 'Putamen_contra|Dorsal_area_6_ipsi', 'Putamen_contra|Ventral_Area_6_ipsi', 'Putamen_contra|Rostral_Area_6_ipsi', 'Putamen_contra|Area_6_anterior_ipsi', 'Putamen_contra|Primary_Motor_Cortex_ipsi', 'Putamen_contra|Primary_Sensory_Cortex_ipsi', 'Putamen_contra|Area_1_ipsi', 'Putamen_contra|Area_2_ipsi', 'Putamen_contra|Area_3a_ipsi', 'Putamen_contra|Caudate_contra', 'Putamen_contra|Pallidum_contra', 'Putamen_contra|Accumbens_contra', 'Putamen_contra|Cerebellu_contra', 'Putamen_contra|Thalamus_contra', 'Putamen_contra|Area_55b_contra', 'Putamen_contra|Dorsal_area_6_contra', 'Putamen_contra|Ventral_Area_6_contra', 'Putamen_contra|Rostral_Area_6_contra', 'Putamen_contra|Area_6_anterior_contra', 'Putamen_contra|Primary_Motor_Cortex_contra', 'Putamen_contra|Primary_Sensory_Cortex_contra', 'Putamen_contra|Area_1_contra', 'Putamen_contra|Area_2_contra', 'Putamen_contra|Area_3a_contra', 'Pallidum_ipsi|Caudate_ipsi', 'Pallidum_ipsi|Putamen_ipsi', 'Pallidum_ipsi|Accumbens_ipsi', 'Pallidum_ipsi|Cerebellu_ipsi', 'Pallidum_ipsi|Thalamus_ipsi', 'Pallidum_ipsi|Area_55b_ipsi', 'Pallidum_ipsi|Dorsal_area_6_ipsi', 'Pallidum_ipsi|Ventral_Area_6_ipsi', 'Pallidum_ipsi|Rostral_Area_6_ipsi', 'Pallidum_ipsi|Area_6_anterior_ipsi', 'Pallidum_ipsi|Primary_Motor_Cortex_ipsi', 'Pallidum_ipsi|Primary_Sensory_Cortex_ipsi', 'Pallidum_ipsi|Area_1_ipsi', 'Pallidum_ipsi|Area_2_ipsi', 'Pallidum_ipsi|Area_3a_ipsi', 'Pallidum_ipsi|Caudate_contra', 'Pallidum_ipsi|Putamen_contra', 'Pallidum_ipsi|Pallidum_contra', 'Pallidum_ipsi|Accumbens_contra', 'Pallidum_ipsi|Cerebellu_contra', 'Pallidum_ipsi|Thalamus_contra', 'Pallidum_ipsi|Area_55b_contra', 'Pallidum_ipsi|Dorsal_area_6_contra', 'Pallidum_ipsi|Ventral_Area_6_contra', 'Pallidum_ipsi|Rostral_Area_6_contra', 'Pallidum_ipsi|Area_6_anterior_contra', 'Pallidum_ipsi|Primary_Motor_Cortex_contra', 'Pallidum_ipsi|Primary_Sensory_Cortex_contra', 'Pallidum_ipsi|Area_1_contra', 'Pallidum_ipsi|Area_2_contra', 'Pallidum_ipsi|Area_3a_contra', 'Pallidum_contra|Caudate_ipsi', 'Pallidum_contra|Putamen_ipsi', 'Pallidum_contra|Pallidum_ipsi', 'Pallidum_contra|Accumbens_ipsi', 'Pallidum_contra|Cerebellu_ipsi', 'Pallidum_contra|Thalamus_ipsi', 'Pallidum_contra|Area_55b_ipsi', 'Pallidum_contra|Dorsal_area_6_ipsi', 'Pallidum_contra|Ventral_Area_6_ipsi', 'Pallidum_contra|Rostral_Area_6_ipsi', 'Pallidum_contra|Area_6_anterior_ipsi', 'Pallidum_contra|Primary_Motor_Cortex_ipsi', 'Pallidum_contra|Primary_Sensory_Cortex_ipsi', 'Pallidum_contra|Area_1_ipsi', 'Pallidum_contra|Area_2_ipsi', 'Pallidum_contra|Area_3a_ipsi', 'Pallidum_contra|Caudate_contra', 'Pallidum_contra|Putamen_contra', 'Pallidum_contra|Accumbens_contra', 'Pallidum_contra|Cerebellu_contra', 'Pallidum_contra|Thalamus_contra', 'Pallidum_contra|Area_55b_contra', 'Pallidum_contra|Dorsal_area_6_contra', 'Pallidum_contra|Ventral_Area_6_contra', 'Pallidum_contra|Rostral_Area_6_contra', 'Pallidum_contra|Area_6_anterior_contra', 'Pallidum_contra|Primary_Motor_Cortex_contra', 'Pallidum_contra|Primary_Sensory_Cortex_contra', 'Pallidum_contra|Area_1_contra', 'Pallidum_contra|Area_2_contra', 'Pallidum_contra|Area_3a_contra', 'Accumbens_ipsi|Caudate_ipsi', 'Accumbens_ipsi|Putamen_ipsi', 'Accumbens_ipsi|Pallidum_ipsi', 'Accumbens_ipsi|Cerebellu_ipsi', 'Accumbens_ipsi|Thalamus_ipsi', 'Accumbens_ipsi|Area_55b_ipsi', 'Accumbens_ipsi|Dorsal_area_6_ipsi', 'Accumbens_ipsi|Ventral_Area_6_ipsi', 'Accumbens_ipsi|Rostral_Area_6_ipsi', 'Accumbens_ipsi|Area_6_anterior_ipsi', 'Accumbens_ipsi|Primary_Motor_Cortex_ipsi', 'Accumbens_ipsi|Primary_Sensory_Cortex_ipsi', 'Accumbens_ipsi|Area_1_ipsi', 'Accumbens_ipsi|Area_2_ipsi', 'Accumbens_ipsi|Area_3a_ipsi', 'Accumbens_ipsi|Caudate_contra', 'Accumbens_ipsi|Putamen_contra', 'Accumbens_ipsi|Pallidum_contra', 'Accumbens_ipsi|Accumbens_contra', 'Accumbens_ipsi|Cerebellu_contra', 'Accumbens_ipsi|Thalamus_contra', 'Accumbens_ipsi|Area_55b_contra', 'Accumbens_ipsi|Dorsal_area_6_contra', 'Accumbens_ipsi|Ventral_Area_6_contra', 'Accumbens_ipsi|Rostral_Area_6_contra', 'Accumbens_ipsi|Area_6_anterior_contra', 'Accumbens_ipsi|Primary_Motor_Cortex_contra', 'Accumbens_ipsi|Primary_Sensory_Cortex_contra', 'Accumbens_ipsi|Area_1_contra', 'Accumbens_ipsi|Area_2_contra', 'Accumbens_ipsi|Area_3a_contra', 'Accumbens_contra|Caudate_ipsi', 'Accumbens_contra|Putamen_ipsi', 'Accumbens_contra|Pallidum_ipsi', 'Accumbens_contra|Accumbens_ipsi', 'Accumbens_contra|Cerebellu_ipsi', 'Accumbens_contra|Thalamus_ipsi', 'Accumbens_contra|Area_55b_ipsi', 'Accumbens_contra|Dorsal_area_6_ipsi', 'Accumbens_contra|Ventral_Area_6_ipsi', 'Accumbens_contra|Rostral_Area_6_ipsi', 'Accumbens_contra|Area_6_anterior_ipsi', 'Accumbens_contra|Primary_Motor_Cortex_ipsi', 'Accumbens_contra|Primary_Sensory_Cortex_ipsi', 'Accumbens_contra|Area_1_ipsi', 'Accumbens_contra|Area_2_ipsi', 'Accumbens_contra|Area_3a_ipsi', 'Accumbens_contra|Caudate_contra', 'Accumbens_contra|Putamen_contra', 'Accumbens_contra|Pallidum_contra', 'Accumbens_contra|Cerebellu_contra', 'Accumbens_contra|Thalamus_contra', 'Accumbens_contra|Area_55b_contra', 'Accumbens_contra|Dorsal_area_6_contra', 'Accumbens_contra|Ventral_Area_6_contra', 'Accumbens_contra|Rostral_Area_6_contra', 'Accumbens_contra|Area_6_anterior_contra', 'Accumbens_contra|Primary_Motor_Cortex_contra', 'Accumbens_contra|Primary_Sensory_Cortex_contra', 'Accumbens_contra|Area_1_contra', 'Accumbens_contra|Area_2_contra', 'Accumbens_contra|Area_3a_contra']\n",
      "Top predictive features:\n",
      "                                   Feature    Weight\n",
      "162     Pallidum_contra|Dorsal_area_6_ipsi -1.353802\n",
      "176        Pallidum_contra|Area_55b_contra  1.290326\n",
      "157          Pallidum_contra|Pallidum_ipsi  1.257903\n",
      "141          Pallidum_ipsi|Pallidum_contra  1.257903\n",
      "160          Pallidum_contra|Thalamus_ipsi  1.162825\n",
      "179  Pallidum_contra|Rostral_Area_6_contra -1.080304\n",
      "194     Accumbens_ipsi|Rostral_Area_6_ipsi  0.980654\n",
      "177   Pallidum_contra|Dorsal_area_6_contra  0.950879\n",
      "36              Putamen_ipsi|Area_55b_ipsi  0.931138\n",
      "17            Caudate_ipsi|Pallidum_contra  0.906376\n"
     ]
    }
   ],
   "source": [
    "y = valid_data['Fugl_Meyer_contra'].values\n",
    "selected_feature_names, grid = functions.run_Ridge_with_RFE(X_df_clean, y, param_grid)"
   ]
  },
  {
   "cell_type": "code",
   "execution_count": null,
   "id": "9452c402",
   "metadata": {},
   "outputs": [
    {
     "name": "stdout",
     "output_type": "stream",
     "text": [
      "R² on full data: 1.000\n",
      "Mean Squared Error: 0.025\n",
      "Mean Absolute Error: 0.108\n"
     ]
    },
    {
     "data": {
      "image/png": "[encoded data removed]",
      "text/plain": [
       "<Figure size 600x600 with 1 Axes>"
      ]
     },
     "metadata": {},
     "output_type": "display_data"
    }
   ],
   "source": [
    "from sklearn.metrics import mean_squared_error, mean_absolute_error, r2_score\n",
    "import matplotlib.pyplot as plt\n",
    "\n",
    "# Step 1: Predict with the best model on all data\n",
    "y_pred = grid.best_estimator_.predict(X_df_clean)\n",
    "\n",
    "# Step 2: Evaluate performance\n",
    "r2 = r2_score(y, y_pred)\n",
    "mse = mean_squared_error(y, y_pred)\n",
    "mae = mean_absolute_error(y, y_pred)\n",
    "\n",
    "print(f\"R² on full data: {r2:.3f}\")\n",
    "print(f\"Mean Squared Error: {mse:.3f}\")\n",
    "print(f\"Mean Absolute Error: {mae:.3f}\")\n",
    "\n",
    "plt.figure(figsize=(6, 6))\n",
    "plt.scatter(y, y_pred, edgecolor='k')\n",
    "plt.plot([y.min(), y.max()], [y.min(), y.max()], 'r--', lw=2)\n",
    "plt.xlabel(\"True motor scores\")\n",
    "plt.ylabel(\"Predicted motor scores\")\n",
    "plt.title(\"True vs. Predicted\")\n",
    "plt.grid(True)\n",
    "plt.tight_layout()\n",
    "plt.show()\n"
   ]
  },
  {
   "cell_type": "markdown",
   "id": "b2b5946f",
   "metadata": {},
   "source": [
    "### nmf motor"
   ]
  },
  {
   "cell_type": "code",
   "execution_count": null,
   "id": "f3d020ee",
   "metadata": {},
   "outputs": [
    {
     "name": "stderr",
     "output_type": "stream",
     "text": [
      "/Users/maylismuller/opt/anaconda3/envs/ada/lib/python3.11/site-packages/sklearn/feature_selection/_rfe.py:291: UserWarning: Found n_features_to_select=256 > n_features=248. There will be no feature selection and all features will be kept.\n",
      "  warnings.warn(\n",
      "/Users/maylismuller/opt/anaconda3/envs/ada/lib/python3.11/site-packages/sklearn/feature_selection/_rfe.py:291: UserWarning: Found n_features_to_select=256 > n_features=248. There will be no feature selection and all features will be kept.\n",
      "  warnings.warn(\n",
      "/Users/maylismuller/opt/anaconda3/envs/ada/lib/python3.11/site-packages/sklearn/feature_selection/_rfe.py:291: UserWarning: Found n_features_to_select=256 > n_features=248. There will be no feature selection and all features will be kept.\n",
      "  warnings.warn(\n",
      "/Users/maylismuller/opt/anaconda3/envs/ada/lib/python3.11/site-packages/sklearn/feature_selection/_rfe.py:291: UserWarning: Found n_features_to_select=256 > n_features=248. There will be no feature selection and all features will be kept.\n",
      "  warnings.warn(\n",
      "/Users/maylismuller/opt/anaconda3/envs/ada/lib/python3.11/site-packages/sklearn/feature_selection/_rfe.py:291: UserWarning: Found n_features_to_select=256 > n_features=248. There will be no feature selection and all features will be kept.\n",
      "  warnings.warn(\n",
      "/Users/maylismuller/opt/anaconda3/envs/ada/lib/python3.11/site-packages/sklearn/feature_selection/_rfe.py:291: UserWarning: Found n_features_to_select=256 > n_features=248. There will be no feature selection and all features will be kept.\n",
      "  warnings.warn(\n",
      "/Users/maylismuller/opt/anaconda3/envs/ada/lib/python3.11/site-packages/sklearn/feature_selection/_rfe.py:291: UserWarning: Found n_features_to_select=256 > n_features=248. There will be no feature selection and all features will be kept.\n",
      "  warnings.warn(\n",
      "/Users/maylismuller/opt/anaconda3/envs/ada/lib/python3.11/site-packages/sklearn/feature_selection/_rfe.py:291: UserWarning: Found n_features_to_select=256 > n_features=248. There will be no feature selection and all features will be kept.\n",
      "  warnings.warn(\n",
      "/Users/maylismuller/opt/anaconda3/envs/ada/lib/python3.11/site-packages/sklearn/feature_selection/_rfe.py:291: UserWarning: Found n_features_to_select=256 > n_features=248. There will be no feature selection and all features will be kept.\n",
      "  warnings.warn(\n",
      "/Users/maylismuller/opt/anaconda3/envs/ada/lib/python3.11/site-packages/sklearn/feature_selection/_rfe.py:291: UserWarning: Found n_features_to_select=256 > n_features=248. There will be no feature selection and all features will be kept.\n",
      "  warnings.warn(\n",
      "/Users/maylismuller/opt/anaconda3/envs/ada/lib/python3.11/site-packages/sklearn/feature_selection/_rfe.py:291: UserWarning: Found n_features_to_select=256 > n_features=248. There will be no feature selection and all features will be kept.\n",
      "  warnings.warn(\n",
      "/Users/maylismuller/opt/anaconda3/envs/ada/lib/python3.11/site-packages/sklearn/feature_selection/_rfe.py:291: UserWarning: Found n_features_to_select=256 > n_features=248. There will be no feature selection and all features will be kept.\n",
      "  warnings.warn(\n",
      "/Users/maylismuller/opt/anaconda3/envs/ada/lib/python3.11/site-packages/sklearn/feature_selection/_rfe.py:291: UserWarning: Found n_features_to_select=256 > n_features=248. There will be no feature selection and all features will be kept.\n",
      "  warnings.warn(\n",
      "/Users/maylismuller/opt/anaconda3/envs/ada/lib/python3.11/site-packages/sklearn/feature_selection/_rfe.py:291: UserWarning: Found n_features_to_select=256 > n_features=248. There will be no feature selection and all features will be kept.\n",
      "  warnings.warn(\n",
      "/Users/maylismuller/opt/anaconda3/envs/ada/lib/python3.11/site-packages/sklearn/feature_selection/_rfe.py:291: UserWarning: Found n_features_to_select=256 > n_features=248. There will be no feature selection and all features will be kept.\n",
      "  warnings.warn(\n",
      "/Users/maylismuller/opt/anaconda3/envs/ada/lib/python3.11/site-packages/sklearn/feature_selection/_rfe.py:291: UserWarning: Found n_features_to_select=256 > n_features=248. There will be no feature selection and all features will be kept.\n",
      "  warnings.warn(\n",
      "/Users/maylismuller/opt/anaconda3/envs/ada/lib/python3.11/site-packages/sklearn/feature_selection/_rfe.py:291: UserWarning: Found n_features_to_select=256 > n_features=248. There will be no feature selection and all features will be kept.\n",
      "  warnings.warn(\n",
      "/Users/maylismuller/opt/anaconda3/envs/ada/lib/python3.11/site-packages/sklearn/feature_selection/_rfe.py:291: UserWarning: Found n_features_to_select=256 > n_features=248. There will be no feature selection and all features will be kept.\n",
      "  warnings.warn(\n",
      "/Users/maylismuller/opt/anaconda3/envs/ada/lib/python3.11/site-packages/sklearn/feature_selection/_rfe.py:291: UserWarning: Found n_features_to_select=256 > n_features=248. There will be no feature selection and all features will be kept.\n",
      "  warnings.warn(\n",
      "/Users/maylismuller/opt/anaconda3/envs/ada/lib/python3.11/site-packages/sklearn/feature_selection/_rfe.py:291: UserWarning: Found n_features_to_select=256 > n_features=248. There will be no feature selection and all features will be kept.\n",
      "  warnings.warn(\n",
      "/Users/maylismuller/opt/anaconda3/envs/ada/lib/python3.11/site-packages/sklearn/feature_selection/_rfe.py:291: UserWarning: Found n_features_to_select=256 > n_features=248. There will be no feature selection and all features will be kept.\n",
      "  warnings.warn(\n",
      "/Users/maylismuller/opt/anaconda3/envs/ada/lib/python3.11/site-packages/sklearn/feature_selection/_rfe.py:291: UserWarning: Found n_features_to_select=256 > n_features=248. There will be no feature selection and all features will be kept.\n",
      "  warnings.warn(\n",
      "/Users/maylismuller/opt/anaconda3/envs/ada/lib/python3.11/site-packages/sklearn/feature_selection/_rfe.py:291: UserWarning: Found n_features_to_select=256 > n_features=248. There will be no feature selection and all features will be kept.\n",
      "  warnings.warn(\n",
      "/Users/maylismuller/opt/anaconda3/envs/ada/lib/python3.11/site-packages/sklearn/feature_selection/_rfe.py:291: UserWarning: Found n_features_to_select=256 > n_features=248. There will be no feature selection and all features will be kept.\n",
      "  warnings.warn(\n",
      "/Users/maylismuller/opt/anaconda3/envs/ada/lib/python3.11/site-packages/sklearn/feature_selection/_rfe.py:291: UserWarning: Found n_features_to_select=256 > n_features=248. There will be no feature selection and all features will be kept.\n",
      "  warnings.warn(\n",
      "/Users/maylismuller/opt/anaconda3/envs/ada/lib/python3.11/site-packages/sklearn/feature_selection/_rfe.py:291: UserWarning: Found n_features_to_select=256 > n_features=248. There will be no feature selection and all features will be kept.\n",
      "  warnings.warn(\n",
      "/Users/maylismuller/opt/anaconda3/envs/ada/lib/python3.11/site-packages/sklearn/feature_selection/_rfe.py:291: UserWarning: Found n_features_to_select=256 > n_features=248. There will be no feature selection and all features will be kept.\n",
      "  warnings.warn(\n",
      "/Users/maylismuller/opt/anaconda3/envs/ada/lib/python3.11/site-packages/sklearn/feature_selection/_rfe.py:291: UserWarning: Found n_features_to_select=256 > n_features=248. There will be no feature selection and all features will be kept.\n",
      "  warnings.warn(\n",
      "/Users/maylismuller/opt/anaconda3/envs/ada/lib/python3.11/site-packages/sklearn/feature_selection/_rfe.py:291: UserWarning: Found n_features_to_select=256 > n_features=248. There will be no feature selection and all features will be kept.\n",
      "  warnings.warn(\n",
      "/Users/maylismuller/opt/anaconda3/envs/ada/lib/python3.11/site-packages/sklearn/feature_selection/_rfe.py:291: UserWarning: Found n_features_to_select=256 > n_features=248. There will be no feature selection and all features will be kept.\n",
      "  warnings.warn(\n",
      "/Users/maylismuller/opt/anaconda3/envs/ada/lib/python3.11/site-packages/sklearn/feature_selection/_rfe.py:291: UserWarning: Found n_features_to_select=256 > n_features=248. There will be no feature selection and all features will be kept.\n",
      "  warnings.warn(\n",
      "/Users/maylismuller/opt/anaconda3/envs/ada/lib/python3.11/site-packages/sklearn/feature_selection/_rfe.py:291: UserWarning: Found n_features_to_select=256 > n_features=248. There will be no feature selection and all features will be kept.\n",
      "  warnings.warn(\n",
      "/Users/maylismuller/opt/anaconda3/envs/ada/lib/python3.11/site-packages/sklearn/feature_selection/_rfe.py:291: UserWarning: Found n_features_to_select=256 > n_features=248. There will be no feature selection and all features will be kept.\n",
      "  warnings.warn(\n",
      "/Users/maylismuller/opt/anaconda3/envs/ada/lib/python3.11/site-packages/sklearn/feature_selection/_rfe.py:291: UserWarning: Found n_features_to_select=256 > n_features=248. There will be no feature selection and all features will be kept.\n",
      "  warnings.warn(\n",
      "/Users/maylismuller/opt/anaconda3/envs/ada/lib/python3.11/site-packages/sklearn/feature_selection/_rfe.py:291: UserWarning: Found n_features_to_select=256 > n_features=248. There will be no feature selection and all features will be kept.\n",
      "  warnings.warn(\n",
      "/Users/maylismuller/opt/anaconda3/envs/ada/lib/python3.11/site-packages/sklearn/feature_selection/_rfe.py:291: UserWarning: Found n_features_to_select=256 > n_features=248. There will be no feature selection and all features will be kept.\n",
      "  warnings.warn(\n",
      "/Users/maylismuller/opt/anaconda3/envs/ada/lib/python3.11/site-packages/sklearn/feature_selection/_rfe.py:291: UserWarning: Found n_features_to_select=256 > n_features=248. There will be no feature selection and all features will be kept.\n",
      "  warnings.warn(\n",
      "/Users/maylismuller/opt/anaconda3/envs/ada/lib/python3.11/site-packages/sklearn/feature_selection/_rfe.py:291: UserWarning: Found n_features_to_select=256 > n_features=248. There will be no feature selection and all features will be kept.\n",
      "  warnings.warn(\n",
      "/Users/maylismuller/opt/anaconda3/envs/ada/lib/python3.11/site-packages/sklearn/feature_selection/_rfe.py:291: UserWarning: Found n_features_to_select=256 > n_features=248. There will be no feature selection and all features will be kept.\n",
      "  warnings.warn(\n",
      "/Users/maylismuller/opt/anaconda3/envs/ada/lib/python3.11/site-packages/sklearn/feature_selection/_rfe.py:291: UserWarning: Found n_features_to_select=256 > n_features=248. There will be no feature selection and all features will be kept.\n",
      "  warnings.warn(\n",
      "/Users/maylismuller/opt/anaconda3/envs/ada/lib/python3.11/site-packages/sklearn/feature_selection/_rfe.py:291: UserWarning: Found n_features_to_select=256 > n_features=248. There will be no feature selection and all features will be kept.\n",
      "  warnings.warn(\n",
      "/Users/maylismuller/opt/anaconda3/envs/ada/lib/python3.11/site-packages/sklearn/feature_selection/_rfe.py:291: UserWarning: Found n_features_to_select=256 > n_features=248. There will be no feature selection and all features will be kept.\n",
      "  warnings.warn(\n",
      "/Users/maylismuller/opt/anaconda3/envs/ada/lib/python3.11/site-packages/sklearn/feature_selection/_rfe.py:291: UserWarning: Found n_features_to_select=256 > n_features=248. There will be no feature selection and all features will be kept.\n",
      "  warnings.warn(\n",
      "/Users/maylismuller/opt/anaconda3/envs/ada/lib/python3.11/site-packages/sklearn/feature_selection/_rfe.py:291: UserWarning: Found n_features_to_select=256 > n_features=248. There will be no feature selection and all features will be kept.\n",
      "  warnings.warn(\n",
      "/Users/maylismuller/opt/anaconda3/envs/ada/lib/python3.11/site-packages/sklearn/feature_selection/_rfe.py:291: UserWarning: Found n_features_to_select=256 > n_features=248. There will be no feature selection and all features will be kept.\n",
      "  warnings.warn(\n",
      "/Users/maylismuller/opt/anaconda3/envs/ada/lib/python3.11/site-packages/sklearn/feature_selection/_rfe.py:291: UserWarning: Found n_features_to_select=256 > n_features=248. There will be no feature selection and all features will be kept.\n",
      "  warnings.warn(\n",
      "/Users/maylismuller/opt/anaconda3/envs/ada/lib/python3.11/site-packages/sklearn/feature_selection/_rfe.py:291: UserWarning: Found n_features_to_select=256 > n_features=248. There will be no feature selection and all features will be kept.\n",
      "  warnings.warn(\n",
      "/Users/maylismuller/opt/anaconda3/envs/ada/lib/python3.11/site-packages/sklearn/feature_selection/_rfe.py:291: UserWarning: Found n_features_to_select=256 > n_features=248. There will be no feature selection and all features will be kept.\n",
      "  warnings.warn(\n",
      "/Users/maylismuller/opt/anaconda3/envs/ada/lib/python3.11/site-packages/sklearn/feature_selection/_rfe.py:291: UserWarning: Found n_features_to_select=256 > n_features=248. There will be no feature selection and all features will be kept.\n",
      "  warnings.warn(\n",
      "/Users/maylismuller/opt/anaconda3/envs/ada/lib/python3.11/site-packages/sklearn/feature_selection/_rfe.py:291: UserWarning: Found n_features_to_select=256 > n_features=248. There will be no feature selection and all features will be kept.\n",
      "  warnings.warn(\n"
     ]
    },
    {
     "name": "stdout",
     "output_type": "stream",
     "text": [
      "Best number of features: 256\n",
      "Best cross-validated R² score: -545.530818675318\n",
      "Selected feature names: ['Caudate_ipsi|Putamen_ipsi', 'Caudate_ipsi|Pallidum_ipsi', 'Caudate_ipsi|Accumbens_ipsi', 'Caudate_ipsi|Cerebellu_ipsi', 'Caudate_ipsi|Thalamus_ipsi', 'Caudate_ipsi|Area_55b_ipsi', 'Caudate_ipsi|Dorsal_area_6_ipsi', 'Caudate_ipsi|Ventral_Area_6_ipsi', 'Caudate_ipsi|Rostral_Area_6_ipsi', 'Caudate_ipsi|Area_6_anterior_ipsi', 'Caudate_ipsi|Primary_Motor_Cortex_ipsi', 'Caudate_ipsi|Primary_Sensory_Cortex_ipsi', 'Caudate_ipsi|Area_1_ipsi', 'Caudate_ipsi|Area_2_ipsi', 'Caudate_ipsi|Area_3a_ipsi', 'Caudate_ipsi|Caudate_contra', 'Caudate_ipsi|Putamen_contra', 'Caudate_ipsi|Pallidum_contra', 'Caudate_ipsi|Accumbens_contra', 'Caudate_ipsi|Cerebellu_contra', 'Caudate_ipsi|Thalamus_contra', 'Caudate_ipsi|Area_55b_contra', 'Caudate_ipsi|Dorsal_area_6_contra', 'Caudate_ipsi|Ventral_Area_6_contra', 'Caudate_ipsi|Rostral_Area_6_contra', 'Caudate_ipsi|Area_6_anterior_contra', 'Caudate_ipsi|Primary_Motor_Cortex_contra', 'Caudate_ipsi|Primary_Sensory_Cortex_contra', 'Caudate_ipsi|Area_1_contra', 'Caudate_ipsi|Area_2_contra', 'Caudate_ipsi|Area_3a_contra', 'Putamen_ipsi|Caudate_ipsi', 'Putamen_ipsi|Pallidum_ipsi', 'Putamen_ipsi|Accumbens_ipsi', 'Putamen_ipsi|Cerebellu_ipsi', 'Putamen_ipsi|Thalamus_ipsi', 'Putamen_ipsi|Area_55b_ipsi', 'Putamen_ipsi|Dorsal_area_6_ipsi', 'Putamen_ipsi|Ventral_Area_6_ipsi', 'Putamen_ipsi|Rostral_Area_6_ipsi', 'Putamen_ipsi|Area_6_anterior_ipsi', 'Putamen_ipsi|Primary_Motor_Cortex_ipsi', 'Putamen_ipsi|Primary_Sensory_Cortex_ipsi', 'Putamen_ipsi|Area_1_ipsi', 'Putamen_ipsi|Area_2_ipsi', 'Putamen_ipsi|Area_3a_ipsi', 'Putamen_ipsi|Caudate_contra', 'Putamen_ipsi|Putamen_contra', 'Putamen_ipsi|Pallidum_contra', 'Putamen_ipsi|Accumbens_contra', 'Putamen_ipsi|Cerebellu_contra', 'Putamen_ipsi|Thalamus_contra', 'Putamen_ipsi|Area_55b_contra', 'Putamen_ipsi|Dorsal_area_6_contra', 'Putamen_ipsi|Ventral_Area_6_contra', 'Putamen_ipsi|Rostral_Area_6_contra', 'Putamen_ipsi|Area_6_anterior_contra', 'Putamen_ipsi|Primary_Motor_Cortex_contra', 'Putamen_ipsi|Primary_Sensory_Cortex_contra', 'Putamen_ipsi|Area_1_contra', 'Putamen_ipsi|Area_2_contra', 'Putamen_ipsi|Area_3a_contra', 'Caudate_contra|Caudate_ipsi', 'Caudate_contra|Putamen_ipsi', 'Caudate_contra|Pallidum_ipsi', 'Caudate_contra|Accumbens_ipsi', 'Caudate_contra|Cerebellu_ipsi', 'Caudate_contra|Thalamus_ipsi', 'Caudate_contra|Area_55b_ipsi', 'Caudate_contra|Dorsal_area_6_ipsi', 'Caudate_contra|Ventral_Area_6_ipsi', 'Caudate_contra|Rostral_Area_6_ipsi', 'Caudate_contra|Area_6_anterior_ipsi', 'Caudate_contra|Primary_Motor_Cortex_ipsi', 'Caudate_contra|Primary_Sensory_Cortex_ipsi', 'Caudate_contra|Area_1_ipsi', 'Caudate_contra|Area_2_ipsi', 'Caudate_contra|Area_3a_ipsi', 'Caudate_contra|Putamen_contra', 'Caudate_contra|Pallidum_contra', 'Caudate_contra|Accumbens_contra', 'Caudate_contra|Cerebellu_contra', 'Caudate_contra|Thalamus_contra', 'Caudate_contra|Area_55b_contra', 'Caudate_contra|Dorsal_area_6_contra', 'Caudate_contra|Ventral_Area_6_contra', 'Caudate_contra|Rostral_Area_6_contra', 'Caudate_contra|Area_6_anterior_contra', 'Caudate_contra|Primary_Motor_Cortex_contra', 'Caudate_contra|Primary_Sensory_Cortex_contra', 'Caudate_contra|Area_1_contra', 'Caudate_contra|Area_2_contra', 'Caudate_contra|Area_3a_contra', 'Putamen_contra|Caudate_ipsi', 'Putamen_contra|Putamen_ipsi', 'Putamen_contra|Pallidum_ipsi', 'Putamen_contra|Accumbens_ipsi', 'Putamen_contra|Cerebellu_ipsi', 'Putamen_contra|Thalamus_ipsi', 'Putamen_contra|Area_55b_ipsi', 'Putamen_contra|Dorsal_area_6_ipsi', 'Putamen_contra|Ventral_Area_6_ipsi', 'Putamen_contra|Rostral_Area_6_ipsi', 'Putamen_contra|Area_6_anterior_ipsi', 'Putamen_contra|Primary_Motor_Cortex_ipsi', 'Putamen_contra|Primary_Sensory_Cortex_ipsi', 'Putamen_contra|Area_1_ipsi', 'Putamen_contra|Area_2_ipsi', 'Putamen_contra|Area_3a_ipsi', 'Putamen_contra|Caudate_contra', 'Putamen_contra|Pallidum_contra', 'Putamen_contra|Accumbens_contra', 'Putamen_contra|Cerebellu_contra', 'Putamen_contra|Thalamus_contra', 'Putamen_contra|Area_55b_contra', 'Putamen_contra|Dorsal_area_6_contra', 'Putamen_contra|Ventral_Area_6_contra', 'Putamen_contra|Rostral_Area_6_contra', 'Putamen_contra|Area_6_anterior_contra', 'Putamen_contra|Primary_Motor_Cortex_contra', 'Putamen_contra|Primary_Sensory_Cortex_contra', 'Putamen_contra|Area_1_contra', 'Putamen_contra|Area_2_contra', 'Putamen_contra|Area_3a_contra', 'Pallidum_ipsi|Caudate_ipsi', 'Pallidum_ipsi|Putamen_ipsi', 'Pallidum_ipsi|Accumbens_ipsi', 'Pallidum_ipsi|Cerebellu_ipsi', 'Pallidum_ipsi|Thalamus_ipsi', 'Pallidum_ipsi|Area_55b_ipsi', 'Pallidum_ipsi|Dorsal_area_6_ipsi', 'Pallidum_ipsi|Ventral_Area_6_ipsi', 'Pallidum_ipsi|Rostral_Area_6_ipsi', 'Pallidum_ipsi|Area_6_anterior_ipsi', 'Pallidum_ipsi|Primary_Motor_Cortex_ipsi', 'Pallidum_ipsi|Primary_Sensory_Cortex_ipsi', 'Pallidum_ipsi|Area_1_ipsi', 'Pallidum_ipsi|Area_2_ipsi', 'Pallidum_ipsi|Area_3a_ipsi', 'Pallidum_ipsi|Caudate_contra', 'Pallidum_ipsi|Putamen_contra', 'Pallidum_ipsi|Pallidum_contra', 'Pallidum_ipsi|Accumbens_contra', 'Pallidum_ipsi|Cerebellu_contra', 'Pallidum_ipsi|Thalamus_contra', 'Pallidum_ipsi|Area_55b_contra', 'Pallidum_ipsi|Dorsal_area_6_contra', 'Pallidum_ipsi|Ventral_Area_6_contra', 'Pallidum_ipsi|Rostral_Area_6_contra', 'Pallidum_ipsi|Area_6_anterior_contra', 'Pallidum_ipsi|Primary_Motor_Cortex_contra', 'Pallidum_ipsi|Primary_Sensory_Cortex_contra', 'Pallidum_ipsi|Area_1_contra', 'Pallidum_ipsi|Area_2_contra', 'Pallidum_ipsi|Area_3a_contra', 'Pallidum_contra|Caudate_ipsi', 'Pallidum_contra|Putamen_ipsi', 'Pallidum_contra|Pallidum_ipsi', 'Pallidum_contra|Accumbens_ipsi', 'Pallidum_contra|Cerebellu_ipsi', 'Pallidum_contra|Thalamus_ipsi', 'Pallidum_contra|Area_55b_ipsi', 'Pallidum_contra|Dorsal_area_6_ipsi', 'Pallidum_contra|Ventral_Area_6_ipsi', 'Pallidum_contra|Rostral_Area_6_ipsi', 'Pallidum_contra|Area_6_anterior_ipsi', 'Pallidum_contra|Primary_Motor_Cortex_ipsi', 'Pallidum_contra|Primary_Sensory_Cortex_ipsi', 'Pallidum_contra|Area_1_ipsi', 'Pallidum_contra|Area_2_ipsi', 'Pallidum_contra|Area_3a_ipsi', 'Pallidum_contra|Caudate_contra', 'Pallidum_contra|Putamen_contra', 'Pallidum_contra|Accumbens_contra', 'Pallidum_contra|Cerebellu_contra', 'Pallidum_contra|Thalamus_contra', 'Pallidum_contra|Area_55b_contra', 'Pallidum_contra|Dorsal_area_6_contra', 'Pallidum_contra|Ventral_Area_6_contra', 'Pallidum_contra|Rostral_Area_6_contra', 'Pallidum_contra|Area_6_anterior_contra', 'Pallidum_contra|Primary_Motor_Cortex_contra', 'Pallidum_contra|Primary_Sensory_Cortex_contra', 'Pallidum_contra|Area_1_contra', 'Pallidum_contra|Area_2_contra', 'Pallidum_contra|Area_3a_contra', 'Accumbens_ipsi|Caudate_ipsi', 'Accumbens_ipsi|Putamen_ipsi', 'Accumbens_ipsi|Pallidum_ipsi', 'Accumbens_ipsi|Cerebellu_ipsi', 'Accumbens_ipsi|Thalamus_ipsi', 'Accumbens_ipsi|Area_55b_ipsi', 'Accumbens_ipsi|Dorsal_area_6_ipsi', 'Accumbens_ipsi|Ventral_Area_6_ipsi', 'Accumbens_ipsi|Rostral_Area_6_ipsi', 'Accumbens_ipsi|Area_6_anterior_ipsi', 'Accumbens_ipsi|Primary_Motor_Cortex_ipsi', 'Accumbens_ipsi|Primary_Sensory_Cortex_ipsi', 'Accumbens_ipsi|Area_1_ipsi', 'Accumbens_ipsi|Area_2_ipsi', 'Accumbens_ipsi|Area_3a_ipsi', 'Accumbens_ipsi|Caudate_contra', 'Accumbens_ipsi|Putamen_contra', 'Accumbens_ipsi|Pallidum_contra', 'Accumbens_ipsi|Accumbens_contra', 'Accumbens_ipsi|Cerebellu_contra', 'Accumbens_ipsi|Thalamus_contra', 'Accumbens_ipsi|Area_55b_contra', 'Accumbens_ipsi|Dorsal_area_6_contra', 'Accumbens_ipsi|Ventral_Area_6_contra', 'Accumbens_ipsi|Rostral_Area_6_contra', 'Accumbens_ipsi|Area_6_anterior_contra', 'Accumbens_ipsi|Primary_Motor_Cortex_contra', 'Accumbens_ipsi|Primary_Sensory_Cortex_contra', 'Accumbens_ipsi|Area_1_contra', 'Accumbens_ipsi|Area_2_contra', 'Accumbens_ipsi|Area_3a_contra', 'Accumbens_contra|Caudate_ipsi', 'Accumbens_contra|Putamen_ipsi', 'Accumbens_contra|Pallidum_ipsi', 'Accumbens_contra|Accumbens_ipsi', 'Accumbens_contra|Cerebellu_ipsi', 'Accumbens_contra|Thalamus_ipsi', 'Accumbens_contra|Area_55b_ipsi', 'Accumbens_contra|Dorsal_area_6_ipsi', 'Accumbens_contra|Ventral_Area_6_ipsi', 'Accumbens_contra|Rostral_Area_6_ipsi', 'Accumbens_contra|Area_6_anterior_ipsi', 'Accumbens_contra|Primary_Motor_Cortex_ipsi', 'Accumbens_contra|Primary_Sensory_Cortex_ipsi', 'Accumbens_contra|Area_1_ipsi', 'Accumbens_contra|Area_2_ipsi', 'Accumbens_contra|Area_3a_ipsi', 'Accumbens_contra|Caudate_contra', 'Accumbens_contra|Putamen_contra', 'Accumbens_contra|Pallidum_contra', 'Accumbens_contra|Cerebellu_contra', 'Accumbens_contra|Thalamus_contra', 'Accumbens_contra|Area_55b_contra', 'Accumbens_contra|Dorsal_area_6_contra', 'Accumbens_contra|Ventral_Area_6_contra', 'Accumbens_contra|Rostral_Area_6_contra', 'Accumbens_contra|Area_6_anterior_contra', 'Accumbens_contra|Primary_Motor_Cortex_contra', 'Accumbens_contra|Primary_Sensory_Cortex_contra', 'Accumbens_contra|Area_1_contra', 'Accumbens_contra|Area_2_contra', 'Accumbens_contra|Area_3a_contra']\n",
      "Top predictive features:\n",
      "                                Feature    Weight\n",
      "176     Pallidum_contra|Area_55b_contra -0.017755\n",
      "157       Pallidum_contra|Pallidum_ipsi -0.015867\n",
      "141       Pallidum_ipsi|Pallidum_contra -0.015867\n",
      "162  Pallidum_contra|Dorsal_area_6_ipsi  0.014694\n",
      "160       Pallidum_contra|Thalamus_ipsi -0.014098\n",
      "238    Accumbens_contra|Area_55b_contra  0.013732\n",
      "40    Putamen_ipsi|Area_6_anterior_ipsi  0.013649\n",
      "108         Putamen_contra|Area_3a_ipsi -0.013487\n",
      "17         Caudate_ipsi|Pallidum_contra -0.013436\n",
      "155        Pallidum_contra|Caudate_ipsi -0.013436\n"
     ]
    },
    {
     "name": "stderr",
     "output_type": "stream",
     "text": [
      "/Users/maylismuller/opt/anaconda3/envs/ada/lib/python3.11/site-packages/sklearn/feature_selection/_rfe.py:291: UserWarning: Found n_features_to_select=256 > n_features=248. There will be no feature selection and all features will be kept.\n",
      "  warnings.warn(\n"
     ]
    }
   ],
   "source": [
    "y = valid_data['nmf_motor'].values\n",
    "selected_feature_names, grid = functions.run_Ridge_with_RFE(X_df_clean, y, param_grid)"
   ]
  }
 ],
 "metadata": {
  "kernelspec": {
   "display_name": "ada",
   "language": "python",
   "name": "python3"
  },
  "language_info": {
   "codemirror_mode": {
    "name": "ipython",
    "version": 3
   },
   "file_extension": ".py",
   "mimetype": "text/x-python",
   "name": "python",
   "nbconvert_exporter": "python",
   "pygments_lexer": "ipython3",
   "version": "3.11.9"
  }
 },
 "nbformat": 4,
 "nbformat_minor": 5
}
